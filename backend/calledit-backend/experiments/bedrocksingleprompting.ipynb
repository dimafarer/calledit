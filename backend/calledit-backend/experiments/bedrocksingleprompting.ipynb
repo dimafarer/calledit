{
 "cells": [
  {
   "cell_type": "code",
   "execution_count": 1,
   "id": "5a90ba38",
   "metadata": {},
   "outputs": [
    {
     "name": "stdout",
     "output_type": "stream",
     "text": [
      "{'inputTextTokenCount': 6, 'results': [{'tokenCount': 107, 'outputText': '\\nHere is an interesting fact about the Great Barrier Reef:\\nThe Great Barrier Reef is the largest coral reef system in the world, stretching over 2,000 miles and covering an area of approximately 133,000 square miles. It is located off the coast of Queensland, Australia, and is home to a diverse range of marine life, including over 1,500 species of fish, 600 species of coral, and 411 species of sharks.', 'completionReason': 'FINISH'}]}\n"
     ]
    }
   ],
   "source": [
    "import boto3\n",
    "import json\n",
    "from botocore.exceptions import ClientError, NoCredentialsError, PartialCredentialsError\n",
    "\n",
    "bedrock_client = boto3.client(\"bedrock-runtime\")\n",
    "\n",
    "def bedrock_text_prompt(textGenerationConfig, prompt, modelId):\n",
    "    native_request = {\n",
    "        \"inputText\": prompt,\n",
    "        \"textGenerationConfig\": textGenerationConfig\n",
    "    }\n",
    "    \n",
    "    try:\n",
    "        request = json.dumps(native_request)\n",
    "        modelResponse = bedrock_client.invoke_model(modelId=modelId, body=request)\n",
    "        model_response = json.loads(modelResponse[\"body\"].read())\n",
    "        return model_response\n",
    "    except (ClientError, Exception) as e:\n",
    "        print(f\"ERROR: Can't invoke '{modelId}'. Reason: {e}\")\n",
    "        return None\n",
    "\n",
    "textGenerationConfig = {\n",
    "    \"maxTokenCount\": 512,\n",
    "    \"temperature\": 0.5,\n",
    "    \"topP\": 0.9\n",
    "}\n",
    "\n",
    "modelId = \"amazon.titan-text-express-v1\"\n",
    "\n",
    "prompt = \"Tell me an interesting fact.\"\n",
    "\n",
    "# Call the function\n",
    "response = bedrock_text_prompt(textGenerationConfig, prompt, modelId)\n",
    "print(response)"
   ]
  }
 ],
 "metadata": {
  "kernelspec": {
   "display_name": "venv",
   "language": "python",
   "name": "python3"
  },
  "language_info": {
   "codemirror_mode": {
    "name": "ipython",
    "version": 3
   },
   "file_extension": ".py",
   "mimetype": "text/x-python",
   "name": "python",
   "nbconvert_exporter": "python",
   "pygments_lexer": "ipython3",
   "version": "3.12.3"
  }
 },
 "nbformat": 4,
 "nbformat_minor": 5
}
