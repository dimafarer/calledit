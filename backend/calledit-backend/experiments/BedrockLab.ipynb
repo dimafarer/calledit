{
 "cells": [
  {
   "cell_type": "markdown",
   "id": "556adf44-37f9-4da8-87e6-c40ca0e2fdcc",
   "metadata": {},
   "source": [
    "# Navigating Jupyter Notebook\n",
    "A Jupyter notebook is made of cells that can contain either markdown text or executable code. In this lab, markdown cells are used for instructions, while code cells contain Python code.\n",
    "\n",
    "To run the code in a code cell, first choose the cell to select it. Then, either choose the play button in the toolbar or press **Shift+Enter**. You will see a set of empty square brackets [ ] to the left of each code cell. When the code is running, an asterisk will appear inside the square brackets [*]. When the code completes, the square brackets will contain a number, and any results will be displayed beneath the code cell. This number will increase with each cell you run. You can use this to see the order the cells were run in. The data cells in this notebook must be run in order, but you can run a cell multiple times. Make sure to run the cells in order from top to bottom to avoid errors. This allows you to step through the analysis one cell at a time."
   ]
  },
  {
   "cell_type": "code",
   "execution_count": null,
   "id": "a20ca3a1",
   "metadata": {},
   "outputs": [],
   "source": []
  },
  {
   "cell_type": "markdown",
   "id": "30e00822-eef0-4ab9-b38a-44ac683b7bb4",
   "metadata": {},
   "source": [
    "# Overview\n",
    "In the following tasks, you will use the Amazon Bedrock Runtime service to generate text and images using the Amazon Titan Text Express and Titan Image Generator models. You will invoke these models with specific prompts and configurations. You will process the generated content, which can be text or base64-encoded images. Additionally, you will perform tasks such as uploading the generated images to an Amazon S3 bucket, retrieving them from the bucket, and displaying them using the Python Imaging Library (PIL). This functionality is valuable for validating the quality and capabilities of models. It can also enable further processing or decision-making based on the generated content."
   ]
  },
  {
   "cell_type": "markdown",
   "id": "d55d615e-545f-46e4-8447-935f8a245197",
   "metadata": {},
   "source": [
    "# Task 1: Create a question answering function using the Amazon Bedrock API\n",
    "\n",
    "In this task, you will create an Amazon Bedrock text prompt function that can invoke any Amazon Bedrock text foundation model (FM) for use in different applications. The function will be used throughout AnyCompany’s code base, so it must be sufficiently parameterized. The AnyCompany team does not want to be required to connect to the Amazon Bedrock console text or chat playground in order to use the large language model (LLM). For this project, you decided to author the proof-of-concept code in a Jupyter notebook. "
   ]
  },
  {
   "cell_type": "markdown",
   "id": "38d289df-2b84-44c0-b8bf-3118bc02f50e",
   "metadata": {},
   "source": [
    "### Task 1.1: Create a bedrock-runtime AWS SDK for Python (Boto3) client"
   ]
  },
  {
   "cell_type": "markdown",
   "id": "63b1e825-6864-4c8a-871a-653076b7cc83",
   "metadata": {},
   "source": [
    "You will start by updating a code block to define the client and save it to a variable, and import the necessary Python libraries and modules that will be used.\n",
    "\n",
    "Here is a list of requisites for the code block that you will create.\n",
    "\n",
    "- **Import necessary modules:** The code requires three Python modules: boto3, json, and botocore.exceptions. Import these modules at the beginning of the code block.\n",
    "\n",
    "- **Import specific exceptions:** Import specific exceptions from the botocore.exceptions module: ClientError, NoCredentialsError, and PartialCredentialsError. Import these exceptions along with the module.\n",
    "\n",
    "- **Create an Amazon Bedrock client:** To do this, use the boto3 library, which is a Python SDK for AWS.\n",
    "\n",
    "- **Use the boto3.client method:** Use the boto3.client method to create a client object for the Amazon Bedrock Runtime service. This method takes the service name as an argument, which in this case is 'bedrock-runtime'.\n",
    "\n",
    "- **Assign the client to a variable:** Assign the client object returned by boto3.client to a variable named *bedrock_client*.\n",
    "\n",
    "Refer to the following documentation for further guidance: https://boto3.amazonaws.com/v1/documentation/api/latest/reference/services/bedrock-runtime.html."
   ]
  },
  {
   "cell_type": "code",
   "execution_count": null,
   "id": "b717515a-71ad-48cb-822e-34e873ac67be",
   "metadata": {},
   "outputs": [],
   "source": [
    "# Start updating this code block with the preceding parameters\n",
    "import\n",
    "\n",
    "bedrock_client ="
   ]
  },
  {
   "cell_type": "markdown",
   "id": "871782ea-932d-464e-82ef-96025869d07e",
   "metadata": {},
   "source": [
    "<details>\n",
    "    <summary>Task 1.1 solution</summary>\n",
    "\n",
    "```python\n",
    "\n",
    "import boto3\n",
    "import json\n",
    "from botocore.exceptions import ClientError, NoCredentialsError, PartialCredentialsError\n",
    "\n",
    "bedrock_client = boto3.client('bedrock-runtime')\n",
    "```\n",
    "\n",
    "</details>"
   ]
  },
  {
   "cell_type": "markdown",
   "id": "fd963fda-39e4-40a2-8834-464e7fe0c957",
   "metadata": {},
   "source": [
    "### Task 1.2: Create the **bedrock_text_prompt** function\n",
    "\n",
    "The `bedrock_text_prompt` function will prepare a request payload with the provided prompt and configuration settings. It will invoke a specified Amazon Bedrock model using the AWS Bedrock client, process the model's response, and return the response as a Python object. If any errors occur during the process, an error message will be printed, and None will be returned.\n",
    "\n",
    "Here is a list of requisites for the code block that you will create.\n",
    "\n",
    "- **Define the function:** Start by defining a Python function named *bedrock_text_prompt* that takes three arguments: textGenerationConfig, prompt, and modelId. This function will invoke an Amazon Bedrock model with the provided configurations and prompt, and return the model's response.\n",
    "\n",
    "- **Create a request dictionary:** Inside the function, create a dictionary called *native_request* that will hold the input data for the Amazon Bedrock model. This dictionary should have two keys: \"inputText\" and \"textGenerationConfig\". The value for \"inputText\" should be the prompt argument, and the value for \"textGenerationConfig\" should be the textGenerationConfig argument.\n",
    "\n",
    "- **Convert the request to JSON:** Use the `json.dumps` function to convert the native_request dictionary into a JSON string. Assign the result to a variable called *request*.\n",
    "\n",
    "- **Invoke the Amazon Bedrock model:** You must use the `bedrock_client` object (which should be defined elsewhere in the code) to invoke the Amazon Bedrock model. Call the `invoke_model` method on `bedrock_client`, passing in the modelId argument as the modelId parameter, and the request variable (containing the JSON-encoded request) as the body parameter. Assign the response from `invoke_model` to a variable called *modelResponse*.\n",
    "\n",
    "- **Process the model response:** Inside a try block, complete the following:\n",
    "\n",
    "    - Use `json.loads` to decode the response body (modelResponse[\"body\"].read()) into a Python dictionary or object. Assign the result to a variable called *model_response*.\n",
    "    - Return the `model_response` variable.\n",
    "\n",
    "- **Handle exceptions:** Inside the except block, catch any ClientError or Exception that might occur during the model invocation or response processing. Print an error message that includes the modelId and the error message from the exception, and return None."
   ]
  },
  {
   "cell_type": "code",
   "execution_count": null,
   "id": "9c7a9623-e796-419b-af20-52bce5952c39",
   "metadata": {},
   "outputs": [],
   "source": [
    "import boto3\n",
    "import json\n",
    "from botocore.exceptions import ClientError, NoCredentialsError, PartialCredentialsError\n",
    "\n",
    "bedrock_client = boto3.client('bedrock-runtime')\n",
    "\n",
    "### Start the bedrock_text_prompt function beneath this line\n"
   ]
  },
  {
   "cell_type": "markdown",
   "id": "50ed32fe-4f07-4867-aa40-40e0414b4cac",
   "metadata": {},
   "source": [
    "<details>\n",
    "    <summary>Task 1.2 solution</summary>\n",
    "\n",
    "```python\n",
    "\n",
    "def bedrock_text_prompt(textGenerationConfig, prompt, modelId):\n",
    "    native_request = {\n",
    "        \"inputText\": prompt,\n",
    "        \"textGenerationConfig\": textGenerationConfig\n",
    "    }\n",
    "    \n",
    "    try:\n",
    "        request = json.dumps(native_request)\n",
    "        modelResponse = bedrock_client.invoke_model(modelId=modelId, body=request)\n",
    "        model_response = json.loads(modelResponse[\"body\"].read())\n",
    "        return model_response\n",
    "    except (ClientError, Exception) as e:\n",
    "        print(f\"ERROR: Can't invoke '{modelId}'. Reason: {e}\")\n",
    "        return None\n",
    "```\n",
    "\n",
    "</details>"
   ]
  },
  {
   "cell_type": "markdown",
   "id": "b8f1a732-5844-4efc-8d9d-3e321446abac",
   "metadata": {},
   "source": [
    "<details>\n",
    "    <summary>Task 1.2 summary of the solution code</summary>\n",
    "\n",
    "The `bedrock_text_prompt` function encapsulates the logic for invoking an Amazon Bedrock Runtime model for text generation. It takes a text prompt, text generation configuration, and the model ID as inputs; sends a request to the Amazon Bedrock Runtime service; and returns the generated text response. The function also handles exceptions and errors that might occur during the model invocation process.\n",
    "\n",
    "</details>"
   ]
  },
  {
   "cell_type": "markdown",
   "id": "60228b53-2ab7-4ffc-9115-fa5dac2f8725",
   "metadata": {},
   "source": [
    "### Task 1.3: Add input parameters for invoking the Amazon Bedrock model\n",
    "\n",
    "You will now add three variables to your code that will be used as input parameters for invoking an Amazon Bedrock model to generate text based on the given prompt.\n",
    "\n",
    "Here is a list of requisites for the code block that you will create.\n",
    "\n",
    "1. Create a dictionary for text generation configuration settings with the following three key-value pairs:\n",
    "\n",
    "    - \"maxTokenCount\": An integer for the maximum number of tokens to generate (for example, 512)\n",
    "    - \"temperature\": A float between 0.0 and 1.0 for controlling output randomness/creativity (for example, 0.5)\n",
    "    - \"topP\": A float between 0.0 and 1.0 for the top-p sampling technique (for example, 0.9)\n",
    "    \n",
    "2. Create a string variable for the model ID, and assign it the value \"amazon.titan-text-express-v1\".\n",
    "\n",
    "3. Create another string variable for the input prompt, and assign it the desired prompt of `Tell me an interesting fact.`\n",
    "\n",
    "4. Add a response statement to print the output of the function.  \n",
    "\n",
    "Refer to the following documentation for further guidance: https://docs.aws.amazon.com/bedrock/latest/userguide/model-parameters-titan-text.html#model-parameters-titan-request-response"
   ]
  },
  {
   "cell_type": "code",
   "execution_count": null,
   "id": "2c9a5143-0fc8-47d0-ae25-40e12334d26d",
   "metadata": {},
   "outputs": [],
   "source": [
    "### Continue adding to your code here\n",
    "textGenerationConfig ="
   ]
  },
  {
   "cell_type": "markdown",
   "id": "9ccac283-1176-4da1-b44a-d49f19fa3e21",
   "metadata": {},
   "source": [
    "<details>\n",
    "    <summary>Task 1.3 solution</summary>\n",
    "\n",
    "```python\n",
    "\n",
    "textGenerationConfig = {\n",
    "    \"maxTokenCount\": 512,\n",
    "    \"temperature\": 0.5,\n",
    "    \"topP\": 0.9\n",
    "}\n",
    "\n",
    "modelId = \"amazon.titan-text-express-v1\"\n",
    "\n",
    "prompt = \"Tell me an interesting fact.\"\n",
    "\n",
    "# Call the function\n",
    "response = bedrock_text_prompt(textGenerationConfig, prompt, modelId)\n",
    "print(response)\n",
    "```\n",
    "\n",
    "</details>"
   ]
  },
  {
   "cell_type": "markdown",
   "id": "2e49dca2-6b9e-4155-9779-c11d5ed54212",
   "metadata": {},
   "source": [
    "<details>\n",
    "    <summary>Task 1.3 summary of the solution code</summary>\n",
    "\n",
    "This code block sets up the necessary configurations for text generation using the Amazon Titan Text Express model version 1, provides an initial text prompt, and invokes the `bedrock_text_prompt` function to generate text based on the given prompt and configuration. The generated text is then printed to the console.\n",
    "\n",
    "</details>"
   ]
  },
  {
   "cell_type": "markdown",
   "id": "5ba16597-d1a6-45ef-a7bb-3b9317795b90",
   "metadata": {},
   "source": [
    "<details>\n",
    "    <summary>Task 1 final solution</summary>\n",
    "\n",
    "```python\n",
    "\n",
    "import boto3\n",
    "import json\n",
    "from botocore.exceptions import ClientError, NoCredentialsError, PartialCredentialsError\n",
    "\n",
    "bedrock_client = boto3.client(\"bedrock-runtime\")\n",
    "\n",
    "def bedrock_text_prompt(textGenerationConfig, prompt, modelId):\n",
    "    native_request = {\n",
    "        \"inputText\": prompt,\n",
    "        \"textGenerationConfig\": textGenerationConfig\n",
    "    }\n",
    "    \n",
    "    try:\n",
    "        request = json.dumps(native_request)\n",
    "        modelResponse = bedrock_client.invoke_model(modelId=modelId, body=request)\n",
    "        model_response = json.loads(modelResponse[\"body\"].read())\n",
    "        return model_response\n",
    "    except (ClientError, Exception) as e:\n",
    "        print(f\"ERROR: Can't invoke '{modelId}'. Reason: {e}\")\n",
    "        return None\n",
    "\n",
    "textGenerationConfig = {\n",
    "    \"maxTokenCount\": 512,\n",
    "    \"temperature\": 0.5,\n",
    "    \"topP\": 0.9\n",
    "}\n",
    "\n",
    "modelId = \"amazon.titan-text-express-v1\"\n",
    "\n",
    "prompt = \"Tell me an interesting fact.\"\n",
    "\n",
    "# Call the function\n",
    "response = bedrock_text_prompt(textGenerationConfig, prompt, modelId)\n",
    "print(response)\n",
    "```\n",
    "\n",
    "</details>"
   ]
  },
  {
   "cell_type": "markdown",
   "id": "6fa6c36b-877e-4771-8367-31f7c79f82c4",
   "metadata": {
    "jp-MarkdownHeadingCollapsed": true
   },
   "source": [
    "### Summary of Task 1\n",
    "In this task, you set up the necessary configurations and functions to invoke the Amazon Titan Text Express model version 1 from the Amazon Bedrock Runtime service, passing a text prompt and generation settings. The generated text was then printed to the console."
   ]
  },
  {
   "cell_type": "markdown",
   "id": "731bec84-4453-49ba-b085-de70e97bd0d7",
   "metadata": {},
   "source": [
    "## Task 2: Generate images with Amazon Titan\n",
    "\n",
    "In this task, you will set up the necessary client and configuration to interact with the Amazon Titan Image Generation model and create a `bedrock_image_prompt` function to generate images based on a given text prompt and configuration settings. You will finish by updating and reviewing a code cell that is partially pre-populated for you, which creates an S3 bucket for uploading and viewing the image created.\n",
    "\n",
    "You might notice similarities between the `bedrock_text_prompt` function that you previously created and the `bedrock_image_prompt` function that you will create in this task."
   ]
  },
  {
   "cell_type": "markdown",
   "id": "f775e341-0bb1-4888-a0ab-cb19f3d9d7cb",
   "metadata": {},
   "source": [
    "### Task 2.1: Set up the imports, client, and configurations for the Amazon Bedrock Runtime service\n",
    "\n",
    "Here is a list of the requirements for the Amazon Bedrock runtime config file.\n",
    "\n",
    "- Import the necessary libraries (boto3, botocore.exceptions, and json).\n",
    "- Create a client for the Amazon Bedrock Runtime service (bedrock_client).\n",
    "- Define variables modelId and prompt with the following specific values:\n",
    "    - modelId = `amazon.titan-image-generator-v2:0`\n",
    "    - prompt = `a cat and mouse being friends` \n",
    "- Define a dictionary config with various parameters for image generation. (This is pre-populated for you.)\n",
    "\n",
    "Refer to the following documentation for further guidance: https://boto3.amazonaws.com/v1/documentation/api/latest/reference/services/bedrock-runtime.html"
   ]
  },
  {
   "cell_type": "code",
   "execution_count": null,
   "id": "f37af0df-2abe-46c5-8bec-1a4cc400cee0",
   "metadata": {},
   "outputs": [],
   "source": [
    "### The config parameters are pre-populated for you to help you get started \n",
    "# You can fill in the rest of the code around this.\n",
    "\n",
    "\n",
    "\n",
    "config = {\n",
    "    \"numberOfImages\": 2,   # Range: 1 to 5 \n",
    "    \"quality\": \"premium\",  # Options: standard or premium\n",
    "    \"height\": 768,         # Supported height list in the docs \n",
    "    \"width\": 1280,         # Supported width list in the docs\n",
    "    \"cfgScale\": 7.5,       # Range: 1.0 (exclusive) to 10.0\n",
    "    \"seed\": 42             # Range: 0 to 214783647\n",
    "}\n"
   ]
  },
  {
   "cell_type": "markdown",
   "id": "c755bcc9-2cd4-4238-8c13-629e0ef823f2",
   "metadata": {},
   "source": [
    "<details>\n",
    "    <summary>Task 2.1 solution</summary>\n",
    "\n",
    "```python\n",
    "\n",
    "import boto3\n",
    "from botocore.exceptions import ClientError, NoCredentialsError, PartialCredentialsError\n",
    "import json\n",
    "\n",
    "bedrock_client = boto3.client(\"bedrock-runtime\")\n",
    "\n",
    "\n",
    "modelId = \"amazon.titan-image-generator-v2:0\"\n",
    "prompt = \"a cat and mouse being friends\"\n",
    "\n",
    "config = {\n",
    "    \"numberOfImages\": 2,   # Range: 1 to 5 \n",
    "    \"quality\": \"premium\",  # Options: standard or premium\n",
    "    \"height\": 768,         # Supported height list in the docs \n",
    "    \"width\": 1280,         # Supported width list in the docs\n",
    "    \"cfgScale\": 7.5,       # Range: 1.0 (exclusive) to 10.0\n",
    "    \"seed\": 42             # Range: 0 to 214783647\n",
    "}\n",
    "```\n",
    "\n",
    "</details>"
   ]
  },
  {
   "cell_type": "markdown",
   "id": "6332893e-4728-4311-80c8-4085d8a7255a",
   "metadata": {
    "jp-MarkdownHeadingCollapsed": true
   },
   "source": [
    "<details>\n",
    "    <summary>Task 2.1 summary of the solution code</summary>\n",
    "\n",
    "This code sets up the necessary configurations and client for generating images based on the given text prompt \"picture of mitochondria\" using the Amazon Titan Image Generator model version 2. The generated images will have a height of 768 pixels, a width of 1,280 pixels, and premium quality. The config dictionary specifies additional parameters for controlling the generation process, such as the number of images, the classifier-free guidance scale, and the seed for reproducibility.\n",
    "\n",
    "</details>"
   ]
  },
  {
   "cell_type": "markdown",
   "id": "774aad66-c994-413e-a60d-52768d64bd0e",
   "metadata": {},
   "source": [
    "### Task 2.2: Define the bedrock_image_prompt function\n",
    "\n",
    "This function will invoke the Amazon Bedrock Runtime model with the provided prompt and configuration to generate images.\n",
    "\n",
    "Here is a list of requirements for the `bedrock_image_prompt` function.\n",
    "\n",
    "- Start by defining a function with the appropriate parameters. In this case, the function takes three arguments: `prompt` (the text prompt for image generation), `config` (a dictionary containing configuration settings for image generation), and `modelId` (the ID of the model to be used for image generation).\n",
    "\n",
    "- Inside the function, you must use the `boto3` library to interact with the Amazon Bedrock Runtime service. Specifically, you must invoke the `invoke_model` method of the Amazon Bedrock Runtime client, passing in the necessary parameters.\n",
    "\n",
    "https://boto3.amazonaws.com/v1/documentation/api/latest/reference/services/bedrock-runtime/client/invoke_model.html\n",
    "\n",
    "- The `invoke_model` method requires several parameters, including the `request body`, `model ID`, and `content types`. The request body should be a JSON object containing the task type (\"TEXT_IMAGE\"), the text prompt (\"textToImageParams\"), and the image generation configuration (\"imageGenerationConfig\").\n",
    "\n",
    "- You must construct the request body as a Python dictionary, and then convert it to a JSON string using the `json.dumps` function.\n",
    "\n",
    "- After invoking the `invoke_model` method, you'll receive a response object. You must extract the response body from this object and parse it as JSON using the `json.loads` function.\n",
    "\n",
    "- The parsed response body should contain a list of base64-encoded image strings. You can access and return this list from the function.\n",
    "\n",
    "- To handle potential errors, you should wrap the code that invokes the model in a 1try-except block`, catching any ClientError or Exception exceptions that might occur. If an exception is caught, you can print an error message and return None."
   ]
  },
  {
   "cell_type": "code",
   "execution_count": null,
   "id": "44b5e21d-8e08-44a2-ae50-da49a7c43c18",
   "metadata": {},
   "outputs": [],
   "source": [
    "### Start Task 2.2 coding here\n"
   ]
  },
  {
   "cell_type": "markdown",
   "id": "e99d0004-1301-44bd-a86e-80713cd5f96a",
   "metadata": {},
   "source": [
    "<details>\n",
    "    <summary>Task 2.2 solution</summary>\n",
    "\n",
    "```python\n",
    "\n",
    "def bedrock_image_prompt(prompt, config, modelId):\n",
    "\n",
    "    try:\n",
    "        response = bedrock_client.invoke_model(\n",
    "            body=json.dumps({\n",
    "                \"taskType\": \"TEXT_IMAGE\",\n",
    "                \"textToImageParams\": {\n",
    "                    \"text\": prompt, \n",
    "                },\n",
    "                \"imageGenerationConfig\": config\n",
    "            }), \n",
    "            modelId=modelId,\n",
    "            accept=\"application/json\", \n",
    "            contentType=\"application/json\"\n",
    "        )\n",
    "\n",
    "        response_body = json.loads(response.get(\"body\").read())\n",
    "        return response_body.get(\"images\")\n",
    "\n",
    "    except (ClientError, Exception) as e:\n",
    "        print(f\"ERROR: Can't invoke '{modelId}'. Reason: {e}\")\n",
    "        return None\n",
    "```\n",
    "\n",
    "</details>"
   ]
  },
  {
   "cell_type": "markdown",
   "id": "f75cb2b3-5fcd-4995-920d-5086152157bf",
   "metadata": {},
   "source": [
    "<details>\n",
    "    <summary>Task 2.2 summary of the solution code</summary>\n",
    "\n",
    "This function encapsulates the logic for invoking the AWS Bedrock Runtime service to generate images based on a given text prompt, using a specified model and configuration settings. It handles the request and response processing, as well as error handling. If successful, it returns the generated images as a list of base64-encoded strings.\n",
    "\n",
    "</details>\n"
   ]
  },
  {
   "cell_type": "markdown",
   "id": "79b45c6f-19c8-4faf-a9e5-ba053d8c3f05",
   "metadata": {},
   "source": [
    "### Task 2.3: Create a code block for decoding and displaying the generated images\n",
    "Create a code block that will allow you to decode and display the images generated by the `bedrock_image_prompt` function.\n",
    "\n",
    "- Import the necessary libraries: Base64 for decoding base64-encoded data, Image from PIL for working with images, and BytesIO from the io module for working with bytes in memory.\n",
    "- Call the `bedrock_image_prompt` function with the provided prompt, config, and modelId, and store the resulting base64-encoded images in the `encoded_images` variable.\n",
    "- Create a list of image objects by decoding the base64-encoded images using base64.b64decode and then opening the resulting bytes using Image.open and BytesIO."
   ]
  },
  {
   "cell_type": "code",
   "execution_count": null,
   "id": "7a7b61e2-6cd1-4e57-a8a0-c7e90c9e5c07",
   "metadata": {},
   "outputs": [],
   "source": [
    "# Start Task 2.3 coding here\n"
   ]
  },
  {
   "cell_type": "markdown",
   "id": "90aa90d0-96a8-4719-bf07-3e0476f9268c",
   "metadata": {},
   "source": [
    "<details>\n",
    "    <summary>Task 2.3 solution</summary>\n",
    "\n",
    "```python\n",
    "\n",
    "import base64\n",
    "from PIL import Image \n",
    "from io import BytesIO\n",
    "\n",
    "encoded_images = bedrock_image_prompt(prompt, config, modelId)\n",
    "images = [Image.open(BytesIO(base64.b64decode(base64_image))) for base64_image in encoded_images]\n",
    "```\n",
    "\n",
    "</details>"
   ]
  },
  {
   "cell_type": "markdown",
   "id": "2f406c9f-753d-4271-a305-b3d0cb5bfe49",
   "metadata": {},
   "source": [
    "<details>\n",
    "    <summary>Task 2.3 summary of the solution code</summary>\n",
    "\n",
    "This code block takes the base64-encoded image strings returned by the AWS Bedrock Runtime service, decodes them into raw image bytes, creates an in-memory stream from the bytes, and then opens the stream as an image using PIL. The resulting list of PIL.Image objects can be used for various image processing tasks or displayed using the appropriate PIL methods.\n",
    "\n",
    "</details>"
   ]
  },
  {
   "cell_type": "markdown",
   "id": "afaf6366-4730-4988-b36c-3d147eef62c1",
   "metadata": {},
   "source": [
    "### Task 2.4: Add an Amazon S3 client and create a bucket for images\n",
    "\n",
    "In this code block, you won't update three pre-populated functions (`upload_images_to_s3`, `display_images_from_s3`, and `perform_s3_operations`). The goal here is to create a function for creating an S3 bucket.  \n",
    "\n",
    "The `create_s3_bucket` function you will create is a utility function that simplifies the process of creating an Amazon S3 bucket in a specified AWS Region using the boto3 library. It will handle the creation of the Amazon S3 client, the bucket creation request, and error handling. The function should call a bucket name with a Region (provided in the lab instructions guide) to create a new S3 bucket in the desired location.\n",
    "\n",
    "- **Define the function:** This function should take two parameters: `bucket_name` (a string representing the name of the S3 bucket to be created) and `region` (an optional string representing the AWS Region where the bucket should be created, with a default value of the Region your lab instruction guide shows).\n",
    "\n",
    "- **Create an Amazon S3 client:** Inside the function, you must create a client for the Amazon S3 service using the boto3 library. This client will be used to interact with the Amazon S3 service and create the bucket. Use the `boto3.client` method, passing `'s3'` as the service name and the `region_name` parameter with the value of the Region argument.\n",
    "\n",
    "- **Implement error handling:** Since the bucket creation process might encounter errors, it's essential to implement error handling using a `try-except` block. Wrap the code that creates the bucket inside the try block.\n",
    "\n",
    "- **Configure bucket location:** Before creating the bucket, you must configure the location where the bucket should be created. This is necessary for Regions other than the default us-east-1 Region. Create a dictionary object with a key-value pair, where the key is `'LocationConstraint'` and the value is the `region` argument.\n",
    "\n",
    "- **Create the bucket:** Use the Amazon S3 client object to create the bucket. The client object should have a method (for example, `create_bucket`) that allows you to create a new bucket. Pass the `bucket_name` argument as a parameter to this method, along with any additional parameters required for bucket creation, such as the location configuration you created in the previous step.\n",
    "\n",
    "- **Handle success case:** If the bucket creation is successful, you can print a success message to the console. Use an f-string or another string formatting method to include the bucket_name and Region values in the success message.\n",
    "\n",
    "- **Handle error case:** In the except block, catch the appropriate exception that the boto3 library raises when there is an error creating the bucket. This exception is likely to be the ClientError exception. Print an error message to the console, including the `bucket_name`, `region`, and the error details from the caught exception object.\n",
    "\n",
    "**Note:** Replace the `FMI-UNIQUE-BUCKET-NAME` for the bucket_name variable at the end of the code block with a unique S3 bucket name, and replace the four `ENTER REGION HERE` placeholders with your current Region."
   ]
  },
  {
   "cell_type": "code",
   "execution_count": null,
   "id": "6f5d9401-6d19-4a1c-b9c4-fc9375d2a244",
   "metadata": {},
   "outputs": [],
   "source": [
    "import boto3\n",
    "from botocore.exceptions import ClientError\n",
    "import json\n",
    "from PIL import Image\n",
    "from io import BytesIO\n",
    "\n",
    "#### Start create_s3_bucket function definition beneath this line ####\n",
    "\n",
    "\n",
    "def upload_images_to_s3(bucket_name, images, region='ENTER REGION HERE'):\n",
    "    s3_client = boto3.client('s3', region_name=region)\n",
    "    for i, image in enumerate(images):\n",
    "        image_key = f\"image_{i}.png\"\n",
    "        try:\n",
    "            image_bytes = BytesIO()\n",
    "            image.save(image_bytes, format='PNG')\n",
    "            image_bytes = image_bytes.getvalue()\n",
    "            s3_client.put_object(Bucket=bucket_name, Key=image_key, Body=image_bytes)\n",
    "            print(f\"Image '{image_key}' uploaded to S3 bucket '{bucket_name}' in region '{region}'.\")\n",
    "        except ClientError as e:\n",
    "            print(f\"Error uploading image '{image_key}' to S3 bucket '{bucket_name}' in region '{region}': {e}\")\n",
    "\n",
    "def display_images_from_s3(bucket_name, num_images, region='ENTER REGION HERE'):\n",
    "    s3_client = boto3.client('s3', region_name=region)\n",
    "    for i in range(num_images):\n",
    "        image_key = f\"image_{i}.png\"\n",
    "        try:\n",
    "            s3_response = s3_client.get_object(Bucket=bucket_name, Key=image_key)\n",
    "            image_data = s3_response['Body'].read()\n",
    "            image = Image.open(BytesIO(image_data))\n",
    "            image.show()\n",
    "        except ClientError as e:\n",
    "            print(f\"Error retrieving image '{image_key}' from S3 bucket '{bucket_name}' in region '{region}': {e}\")\n",
    "\n",
    "def perform_s3_operations(bucket_name, images, region='ENTER REGION HERE'):\n",
    "    create_s3_bucket(bucket_name, region)\n",
    "    upload_images_to_s3(bucket_name, images, region)\n",
    "    display_images_from_s3(bucket_name, len(images), region)\n",
    "\n",
    "# Call the perform_s3_operations function\n",
    "bucket_name = 'FMI-UNIQUE-BUCKET-NAME'\n",
    "region = 'ENTER REGION HERE'\n",
    "perform_s3_operations(bucket_name, images, region)"
   ]
  },
  {
   "cell_type": "markdown",
   "id": "24b60f1e-0c1e-43b6-8c8a-58e07814f998",
   "metadata": {},
   "source": [
    "<details>\n",
    "    <summary>Task 2.4 solution</summary>\n",
    "\n",
    "```python\n",
    "\n",
    "import boto3\n",
    "from botocore.exceptions import ClientError\n",
    "import json\n",
    "from PIL import Image\n",
    "from io import BytesIO\n",
    "\n",
    "# S3 functions\n",
    "def create_s3_bucket(bucket_name, region='YOUR REGION HERE'):\n",
    "    s3_client = boto3.client('s3', region_name=region)\n",
    "    try:\n",
    "        if region == 'us-east-1':\n",
    "            s3_client.create_bucket(Bucket=bucket_name)\n",
    "        else:\n",
    "            location = {'LocationConstraint': region}\n",
    "            s3_client.create_bucket(Bucket=bucket_name, CreateBucketConfiguration=location)\n",
    "        print(f\"Bucket '{bucket_name}' created successfully in region '{region}'.\")\n",
    "    except ClientError as e:\n",
    "        print(f\"Error creating bucket '{bucket_name}' in region '{region}': {e}\")\n",
    "\n",
    "def upload_images_to_s3(bucket_name, images, region='YOUR REGION HERE'):\n",
    "    s3_client = boto3.client('s3', region_name=region)\n",
    "    for i, image in enumerate(images):\n",
    "        image_key = f\"image_{i}.png\"\n",
    "        try:\n",
    "            image_bytes = BytesIO()\n",
    "            image.save(image_bytes, format='PNG')\n",
    "            image_bytes = image_bytes.getvalue()\n",
    "            s3_client.put_object(Bucket=bucket_name, Key=image_key, Body=image_bytes)\n",
    "            print(f\"Image '{image_key}' uploaded to S3 bucket '{bucket_name}' in region '{region}'.\")\n",
    "        except ClientError as e:\n",
    "            print(f\"Error uploading image '{image_key}' to S3 bucket '{bucket_name}' in region '{region}': {e}\")\n",
    "\n",
    "def display_images_from_s3(bucket_name, num_images, region='YOUR REGION HERE'):\n",
    "    s3_client = boto3.client('s3', region_name=region)\n",
    "    for i in range(num_images):\n",
    "        image_key = f\"image_{i}.png\"\n",
    "        try:\n",
    "            s3_response = s3_client.get_object(Bucket=bucket_name, Key=image_key)\n",
    "            image_data = s3_response['Body'].read()\n",
    "            image = Image.open(BytesIO(image_data))\n",
    "            image.show()\n",
    "        except ClientError as e:\n",
    "            print(f\"Error retrieving image '{image_key}' from S3 bucket '{bucket_name}' in region '{region}': {e}\")\n",
    "\n",
    "def perform_s3_operations(bucket_name, images, region='YOUR REGION HERE'):\n",
    "    create_s3_bucket(bucket_name, region)\n",
    "    upload_images_to_s3(bucket_name, images, region)\n",
    "    display_images_from_s3(bucket_name, len(images), region)\n",
    "\n",
    "# Call the perform_s3_operations function\n",
    "bucket_name = 'UNIQUE-BUCKET-NAME-HERE'\n",
    "region = 'YOUR REGION HERE'\n",
    "perform_s3_operations(bucket_name, images, region)\n",
    "```\n",
    "\n",
    "</details>"
   ]
  },
  {
   "cell_type": "markdown",
   "id": "aead208d-758f-4cb0-95ca-f8d220da2630",
   "metadata": {},
   "source": [
    "<details>\n",
    "    <summary>Task 2.4 summary of the solution code</summary>\n",
    "\n",
    "This code block provides utility functions for creating an Amazon S3 bucket, uploading images to the bucket, and retrieving and displaying those images from the bucket. The `perform_s3_operations` function is called with the appropriate arguments to perform these operations in the specified AWS Region.\n",
    "\n",
    "</details>"
   ]
  },
  {
   "cell_type": "markdown",
   "id": "ae8d6c42-932b-4f4f-bdf1-25ce526fa9c1",
   "metadata": {
    "jp-MarkdownHeadingCollapsed": true
   },
   "source": [
    "#### Summary of Task 2\n",
    "\n",
    "In this task, you created code to generate images using the Amazon Titan Image Generator version 2 model, decoded the base64-encoded image strings into PIL.Image objects, and then uploaded those images to an Amazon S3 bucket. The uploaded images were retrieved from the S3 bucket and displayed using the Python Imaging Library."
   ]
  },
  {
   "cell_type": "markdown",
   "id": "71e3afc5-7854-4e64-834d-cfdb07c45861",
   "metadata": {},
   "source": [
    "## Task 3: Detect objects with Amazon Rekognition\n",
    "\n",
    "In this task, you will create a script that uses Amazon Rekognition to make sure nothing unintended is created in the images that Titan Generator creates. The script will use the Amazon Rekognition service to detect and label the previously created images in the objects. It must also print the detected labels and their confidence scores for each image, providing a way to analyze and understand the content of the generated images.\n",
    "\n",
    "Here are the instructions for code creation.\n",
    "\n",
    "**Import the required libraries:** The code requires the boto3 library and the BytesIO module from the io library to handle image bytes.\n",
    "\n",
    "**Create an Amazon Rekognition client:** Create an Amazon Rekognition client using the boto3.client function, passing in `'rekognition'` as the service name and the desired AWS Region as the `region_name` parameter.\n",
    "\n",
    "**Iterate over a list of images:** The code should assume that there is a list of `images (images)` available, and it will iterate over each image using a for loop with an enumerate function to get the index and the image object.\n",
    "\n",
    "**Save the image to a file:** Save the current image to a file with a specific naming convention `generated_image_1.png` using the `img.save` method.\n",
    "\n",
    "**Convert the image to bytes:** Create a `BytesIO` object and save the image to it using the `img.save` method with the `format='PNG'` parameter. You must get the byte array from the BytesIO object using the `getvalue` method.\n",
    "\n",
    "**Call the Amazon Rekognition service:** You must call the `detect_labels` method of the Amazon Rekognition client, passing in the image bytes as the Image parameter and specifying the maximum number of labels `MaxLabels=10` to return using the MaxLabels parameter.\n",
    "\n",
    "**Print the detected labels:** Iterate over the Labels list in the Amazon Rekognition response, and print the name and confidence score of each label.\n",
    "\n",
    "**Print a newline:** Print an empty line (\"\\n\") after processing each image for better readability.\n"
   ]
  },
  {
   "cell_type": "code",
   "execution_count": null,
   "id": "5c00dbbd-fc0b-425f-9a4e-0ca3b959fb5d",
   "metadata": {},
   "outputs": [],
   "source": [
    "# Start code creation in this cell\n",
    "\n",
    "# Import required libraries\n",
    "\n",
    "# Create an Amazon Rekognition client\n",
    "\n",
    "# Convert image to bytes for Amazon Rekognition\n",
    "\n",
    "# Call Amazon Rekognition\n",
    "\n",
    "# Print Amazon Rekognition labels\n"
   ]
  },
  {
   "cell_type": "markdown",
   "id": "794bec39-70b0-4033-b8d8-0f60454afa51",
   "metadata": {},
   "source": [
    "<details>\n",
    "    <summary>Task 3 solution</summary>\n",
    "\n",
    "```python\n",
    "\n",
    "rekognition = boto3.client('rekognition', region_name='YOUR REGION HERE')\n",
    "\n",
    "for idx, img in enumerate(images):\n",
    "    file_name = f\"generated_image_{idx+1}.png\"\n",
    "    img.save(file_name)\n",
    "    print(f\"Image saved as {file_name}\")\n",
    "    \n",
    "    # Convert image to bytes for Amazon Rekognition\n",
    "    img_byte_arr = BytesIO()\n",
    "    img.save(img_byte_arr, format='PNG')\n",
    "    img_byte_arr = img_byte_arr.getvalue()\n",
    "\n",
    "    # Call Amazon Rekognition\n",
    "    rekognition_response = rekognition.detect_labels(\n",
    "        Image={'Bytes': img_byte_arr},\n",
    "        MaxLabels=10\n",
    "    )\n",
    "\n",
    "    # Print Amazon Rekognition labels\n",
    "    print(f\"Labels for {file_name}:\")\n",
    "    for label in rekognition_response['Labels']:\n",
    "        print(f\"{label['Name']} - {label['Confidence']:.2f}%\")\n",
    "\n",
    "    print(\"\\n\")\n",
    "```\n",
    "\n",
    "</details>"
   ]
  },
  {
   "cell_type": "markdown",
   "id": "0f199a4e-409c-434f-b0b8-954267041be4",
   "metadata": {},
   "source": [
    "<details>\n",
    "    <summary>Task 3 summary of the solution code</summary>\n",
    "    \n",
    "This kind of analysis can be useful in various scenarios, such as validating the quality and accuracy of generated images, understanding the types of objects the image generation model is capable of producing, or potentially using the label information for further processing or decision-making.\n",
    "\n",
    "</details>"
   ]
  },
  {
   "cell_type": "markdown",
   "id": "b917a739-bc5d-4f33-9d3f-a8cf3905df89",
   "metadata": {
    "tags": []
   },
   "source": [
    "You completed the **Using AWS SDK for Python with Amazon Bedrock** lab. In this lab, you used the Amazon Bedrock Runtime service to generate text and images using the Amazon Titan Text Express and Titan Image Generator models. You invoked these models with specific prompts and configurations, processed the generated content (text or base64-encoded images), and performed additional tasks, like uploading the generated images to an Amazon S3 bucket. You then retrieved the images from the bucket and displayed them using the Python Imaging Library. This functionality can be valuable for validating the quality and capabilities of models, as well as enabling further processing or decision-making based on the generated content.\n",
    "\n",
    "### Cleanup\n",
    "\n",
    "You completed this notebook. To move to the next part of the lab, complete the following steps:\n",
    "\n",
    "1. Close this notebook file.\n",
    "\n",
    "1. Return to the lab session and continue with the **Conclusion**."
   ]
  }
 ],
 "metadata": {
  "kernelspec": {
   "display_name": "venv",
   "language": "python",
   "name": "python3"
  },
  "language_info": {
   "codemirror_mode": {
    "name": "ipython",
    "version": 3
   },
   "file_extension": ".py",
   "mimetype": "text/x-python",
   "name": "python",
   "nbconvert_exporter": "python",
   "pygments_lexer": "ipython3",
   "version": "3.12.3"
  }
 },
 "nbformat": 4,
 "nbformat_minor": 5
}
