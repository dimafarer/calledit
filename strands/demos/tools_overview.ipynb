{
 "cells": [
  {
   "cell_type": "markdown",
   "metadata": {},
   "source": [
    "# Tools Overview\n",
    "\n",
    "Tools are the primary mechanism for extending agent capabilities, enabling them to perform actions beyond simple text generation. Tools allow agents to interact with external systems, access data, and manipulate their environment.\n",
    "\n",
    "Strands offers built-in example tools to get started quickly experimenting with agents and tools during development. For more information, see Example Built-in Tools."
   ]
  },
  {
   "cell_type": "markdown",
   "metadata": {},
   "source": [
    "## Adding Tools to Agents\n",
    "\n",
    "Tools are passed to agents during initialization or at runtime, making them available for use throughout the agent's lifecycle. Once loaded, the agent can use these tools in response to user requests:"
   ]
  },
  {
   "cell_type": "code",
   "execution_count": 5,
   "metadata": {},
   "outputs": [
    {
     "data": {
      "text/html": [
       "<pre style=\"white-space:pre;overflow-x:auto;line-height:normal;font-family:Menlo,'DejaVu Sans Mono',consolas,'Courier New',monospace\"><span style=\"color: #000080; text-decoration-color: #000080\">╭────────────────────────────────────────────── </span><span style=\"color: #000080; text-decoration-color: #000080; font-weight: bold\">Calculation Result</span><span style=\"color: #000080; text-decoration-color: #000080\"> ───────────────────────────────────────────────╮</span>\n",
       "<span style=\"color: #000080; text-decoration-color: #000080\">│</span>                                                                                                                 <span style=\"color: #000080; text-decoration-color: #000080\">│</span>\n",
       "<span style=\"color: #000080; text-decoration-color: #000080\">│</span>  ╭───────────┬─────────────────────╮                                                                            <span style=\"color: #000080; text-decoration-color: #000080\">│</span>\n",
       "<span style=\"color: #000080; text-decoration-color: #000080\">│</span>  │<span style=\"color: #008080; text-decoration-color: #008080\"> Operation </span>│<span style=\"color: #008000; text-decoration-color: #008000\"> Evaluate Expression </span>│                                                                            <span style=\"color: #000080; text-decoration-color: #000080\">│</span>\n",
       "<span style=\"color: #000080; text-decoration-color: #000080\">│</span>  │<span style=\"color: #008080; text-decoration-color: #008080\"> Input     </span>│<span style=\"color: #008000; text-decoration-color: #008000\"> 42^9                </span>│                                                                            <span style=\"color: #000080; text-decoration-color: #000080\">│</span>\n",
       "<span style=\"color: #000080; text-decoration-color: #000080\">│</span>  │<span style=\"color: #008080; text-decoration-color: #008080\"> Result    </span>│<span style=\"color: #008000; text-decoration-color: #008000\"> 406671383849472     </span>│                                                                            <span style=\"color: #000080; text-decoration-color: #000080\">│</span>\n",
       "<span style=\"color: #000080; text-decoration-color: #000080\">│</span>  ╰───────────┴─────────────────────╯                                                                            <span style=\"color: #000080; text-decoration-color: #000080\">│</span>\n",
       "<span style=\"color: #000080; text-decoration-color: #000080\">│</span>                                                                                                                 <span style=\"color: #000080; text-decoration-color: #000080\">│</span>\n",
       "<span style=\"color: #000080; text-decoration-color: #000080\">╰─────────────────────────────────────────────────────────────────────────────────────────────────────────────────╯</span>\n",
       "</pre>\n"
      ],
      "text/plain": [
       "\u001b[34m╭─\u001b[0m\u001b[34m─────────────────────────────────────────────\u001b[0m\u001b[34m \u001b[0m\u001b[1;34mCalculation Result\u001b[0m\u001b[34m \u001b[0m\u001b[34m──────────────────────────────────────────────\u001b[0m\u001b[34m─╮\u001b[0m\n",
       "\u001b[34m│\u001b[0m                                                                                                                 \u001b[34m│\u001b[0m\n",
       "\u001b[34m│\u001b[0m  ╭───────────┬─────────────────────╮                                                                            \u001b[34m│\u001b[0m\n",
       "\u001b[34m│\u001b[0m  │\u001b[36m \u001b[0m\u001b[36mOperation\u001b[0m\u001b[36m \u001b[0m│\u001b[32m \u001b[0m\u001b[32mEvaluate Expression\u001b[0m\u001b[32m \u001b[0m│                                                                            \u001b[34m│\u001b[0m\n",
       "\u001b[34m│\u001b[0m  │\u001b[36m \u001b[0m\u001b[36mInput    \u001b[0m\u001b[36m \u001b[0m│\u001b[32m \u001b[0m\u001b[32m42^9               \u001b[0m\u001b[32m \u001b[0m│                                                                            \u001b[34m│\u001b[0m\n",
       "\u001b[34m│\u001b[0m  │\u001b[36m \u001b[0m\u001b[36mResult   \u001b[0m\u001b[36m \u001b[0m│\u001b[32m \u001b[0m\u001b[32m406671383849472    \u001b[0m\u001b[32m \u001b[0m│                                                                            \u001b[34m│\u001b[0m\n",
       "\u001b[34m│\u001b[0m  ╰───────────┴─────────────────────╯                                                                            \u001b[34m│\u001b[0m\n",
       "\u001b[34m│\u001b[0m                                                                                                                 \u001b[34m│\u001b[0m\n",
       "\u001b[34m╰─────────────────────────────────────────────────────────────────────────────────────────────────────────────────╯\u001b[0m\n"
      ]
     },
     "metadata": {},
     "output_type": "display_data"
    }
   ],
   "source": [
    "from strands import Agent\n",
    "from strands_tools import calculator, file_read, shell\n",
    "\n",
    "# Add tools to our agent\n",
    "agent = Agent(\n",
    "    tools=[calculator, file_read, shell]\n",
    ")\n",
    "\n",
    "# Agent will automatically determine when to use the calculator tool\n",
    "agent(\"What is 42 ^ 9\")\n",
    "\n",
    "print(\"\\n\\n\")  # Print new lines\n",
    "\n",
    "# Agent will use the shell and file reader tool when appropriate\n",
    "# agent(\"Show me the contents of a single file in this directory\")"
   ]
  },
  {
   "cell_type": "markdown",
   "metadata": {},
   "source": [
    "We can see which tools are loaded in our agent in agent.tool_names, along with a JSON representation of the tools in agent.tool_config that also includes the tool descriptions and input parameters:"
   ]
  },
  {
   "cell_type": "code",
   "execution_count": 6,
   "metadata": {},
   "outputs": [],
   "source": [
    "print(agent.tool_names)\n",
    "\n",
    "print(agent.tool_config)"
   ]
  },
  {
   "cell_type": "markdown",
   "metadata": {},
   "source": [
    "Tools can also be loaded by passing a file path to our agents during initialization:"
   ]
  },
  {
   "cell_type": "code",
   "execution_count": null,
   "metadata": {},
   "outputs": [],
   "source": [
    "agent = Agent(tools=[\"/path/to/my_tool.py\"])"
   ]
  },
  {
   "cell_type": "markdown",
   "metadata": {},
   "source": [
    "## Auto-loading and reloading tools\n",
    "\n",
    "Tools placed in your current working directory `./tools/` can be automatically loaded at agent initialization, and automatically reloaded when modified. This can be really useful when developing and debugging tools: simply modify the tool code and any agents using that tool will reload it to use the latest modifications!\n",
    "\n",
    "Automatic loading and reloading of tools in the `./tools/` directory is enabled by default with the `load_tools_from_directory=True` parameter passed to Agent during initialization. To disable this behavior, simply set `load_tools_from_directory=False`:"
   ]
  },
  {
   "cell_type": "code",
   "execution_count": null,
   "metadata": {},
   "outputs": [],
   "source": [
    "from strands import Agent\n",
    "\n",
    "agent = Agent(load_tools_from_directory=False)"
   ]
  },
  {
   "cell_type": "markdown",
   "metadata": {},
   "source": [
    "## Using Tools\n",
    "\n",
    "Tools can be invoked in two primary ways.\n",
    "\n",
    "Agents have context about tool calls and their results as part of conversation history. See sessions & state for more information."
   ]
  },
  {
   "cell_type": "markdown",
   "metadata": {},
   "source": [
    "### Natural Language Invocation\n",
    "\n",
    "The most common way agents use tools is through natural language requests. The agent determines when and how to invoke tools based on the user's input:"
   ]
  },
  {
   "cell_type": "code",
   "execution_count": null,
   "metadata": {},
   "outputs": [],
   "source": [
    "# Agent decides when to use tools based on the request\n",
    "agent(\"Please read the file at /path/to/file.txt\")"
   ]
  },
  {
   "cell_type": "markdown",
   "metadata": {},
   "source": [
    "### Direct Method Calls\n",
    "\n",
    "Every tool added to an agent also becomes a method accessible directly on the agent object. This is useful for programmatically invoking tools:"
   ]
  },
  {
   "cell_type": "code",
   "execution_count": null,
   "metadata": {},
   "outputs": [],
   "source": [
    "# Directly invoke a tool as a method\n",
    "result = agent.tool.file_read(path=\"/path/to/file.txt\", mode=\"view\")"
   ]
  },
  {
   "cell_type": "markdown",
   "metadata": {},
   "source": [
    "## Building & Loading Tools"
   ]
  },
  {
   "cell_type": "markdown",
   "metadata": {},
   "source": [
    "### 1. Python Tools\n",
    "\n",
    "Build your own Python tools using the Strands SDK's tool interfaces."
   ]
  },
  {
   "cell_type": "markdown",
   "metadata": {},
   "source": [
    "#### Function Decorator Approach\n",
    "\n",
    "Function decorated tools can be placed anywhere in your codebase and imported in to your agent's list of tools. Define any Python function as a tool by using the @tool decorator."
   ]
  },
  {
   "cell_type": "code",
   "execution_count": 7,
   "metadata": {},
   "outputs": [
    {
     "data": {
      "text/plain": [
       "AgentResult(stop_reason='end_turn', message={'role': 'assistant', 'content': [{'text': 'Currently, the weather in Seattle is sunny with a temperature of 72°F (22.2°C).'}]}, metrics=EventLoopMetrics(cycle_count=3, tool_metrics={'get_user_location': ToolMetrics(tool={'toolUseId': 'tooluse_TsGzPDORQH6VRi5ggx1sTg', 'name': 'get_user_location', 'input': {}}, call_count=1, success_count=1, error_count=0, total_time=0.0005681514739990234), 'weather': ToolMetrics(tool={'toolUseId': 'tooluse_5FAPteS7RlS7fNhDCcKgHA', 'name': 'weather', 'input': {'location': 'Seattle, USA'}}, call_count=1, success_count=1, error_count=0, total_time=0.000148773193359375)}, cycle_durations=[1.2235925197601318], traces=[<strands.telemetry.metrics.Trace object at 0x72d0dc1fb8c0>, <strands.telemetry.metrics.Trace object at 0x72d0de72e9f0>, <strands.telemetry.metrics.Trace object at 0x72d0dc20c0b0>], accumulated_usage={'inputTokens': 1587, 'outputTokens': 130, 'totalTokens': 1717}, accumulated_metrics={'latencyMs': 4595}), state={})"
      ]
     },
     "execution_count": 7,
     "metadata": {},
     "output_type": "execute_result"
    }
   ],
   "source": [
    "from strands import Agent, tool\n",
    "\n",
    "@tool\n",
    "def get_user_location() -> str:\n",
    "    \"\"\"Get the user's location\n",
    "    \"\"\"\n",
    "\n",
    "    # Implement user location lookup logic here\n",
    "    return \"Seattle, USA\"\n",
    "\n",
    "@tool\n",
    "def weather(location: str) -> str:\n",
    "    \"\"\"Get weather information for a location\n",
    "\n",
    "    Args:\n",
    "        location: City or location name\n",
    "    \"\"\"\n",
    "\n",
    "    # Implement weather lookup logic here\n",
    "    return f\"Weather for {location}: Sunny, 72°F\"\n",
    "\n",
    "agent = Agent(tools=[get_user_location, weather])\n",
    "\n",
    "# Use the agent with the custom tools\n",
    "agent(\"What is the weather like in my location?\")"
   ]
  },
  {
   "cell_type": "markdown",
   "metadata": {},
   "source": [
    "#### Module-Based Approach\n",
    "\n",
    "Tool modules can contain function decorated tools, in this example get_user_location.py:"
   ]
  },
  {
   "cell_type": "code",
   "execution_count": null,
   "metadata": {},
   "outputs": [],
   "source": [
    "# get_user_location.py\n",
    "\n",
    "from strands import tool\n",
    "\n",
    "@tool\n",
    "def get_user_location() -> str:\n",
    "    \"\"\"Get the user's location\n",
    "    \"\"\"\n",
    "\n",
    "    # Implement user location lookup logic here\n",
    "    return \"Seattle, USA\""
   ]
  },
  {
   "cell_type": "markdown",
   "metadata": {},
   "source": [
    "Tool modules can also provide single tools that don't use the decorator pattern, instead they define the TOOL_SPEC variable and a function matching the tool's name. In this example weather.py:"
   ]
  },
  {
   "cell_type": "code",
   "execution_count": 8,
   "metadata": {},
   "outputs": [],
   "source": [
    "# weather.py\n",
    "\n",
    "from typing import Any\n",
    "from strands.types.tools import ToolResult, ToolUse\n",
    "\n",
    "TOOL_SPEC = {\n",
    "    \"name\": \"weather\",\n",
    "    \"description\": \"Get weather information for a location\",\n",
    "    \"inputSchema\": {\n",
    "        \"json\": {\n",
    "            \"type\": \"object\",\n",
    "            \"properties\": {\n",
    "                \"location\": {\n",
    "                    \"type\": \"string\",\n",
    "                    \"description\": \"City or location name\"\n",
    "                }\n",
    "            },\n",
    "            \"required\": [\"location\"]\n",
    "        }\n",
    "    }\n",
    "}\n",
    "\n",
    "# Function name must match tool name\n",
    "def weather(tool: ToolUse, **kwargs: Any) -> ToolResult:\n",
    "    tool_use_id = tool[\"toolUseId\"]\n",
    "    location = tool[\"input\"][\"location\"]\n",
    "\n",
    "    # Implement weather lookup logic here\n",
    "    weather_info = f\"Weather for {location}: Sunny, 72°F\"\n",
    "\n",
    "    return {\n",
    "        \"toolUseId\": tool_use_id,\n",
    "        \"status\": \"success\",\n",
    "        \"content\": [{\"text\": weather_info}]\n",
    "    }"
   ]
  },
  {
   "cell_type": "markdown",
   "metadata": {},
   "source": [
    "And finally our agent.py file that demonstrates loading the decorated get_user_location tool from a Python module, and the single non-decorated weather tool module:"
   ]
  },
  {
   "cell_type": "code",
   "execution_count": null,
   "metadata": {},
   "outputs": [],
   "source": [
    "# agent.py\n",
    "\n",
    "from strands import Agent\n",
    "import get_user_location\n",
    "import weather\n",
    "\n",
    "# Tools can be added to agents through Python module imports\n",
    "agent = Agent(tools=[get_user_location, weather])\n",
    "\n",
    "# Use the agent with the custom tools\n",
    "agent(\"What is the weather like in my location?\")"
   ]
  },
  {
   "cell_type": "markdown",
   "metadata": {},
   "source": [
    "Tool modules can also be loaded by providing their module file paths:"
   ]
  },
  {
   "cell_type": "code",
   "execution_count": null,
   "metadata": {},
   "outputs": [],
   "source": [
    "from strands import Agent\n",
    "\n",
    "# Tools can be added to agents through file path strings\n",
    "agent = Agent(tools=[\"./get_user_location.py\", \"./weather.py\"])\n",
    "\n",
    "agent(\"What is the weather like in my location?\")"
   ]
  },
  {
   "cell_type": "markdown",
   "metadata": {},
   "source": [
    "For more details on building custom Python tools, see Python Tools."
   ]
  },
  {
   "cell_type": "markdown",
   "metadata": {},
   "source": [
    "### 2. Model Context Protocol (MCP) Tools\n",
    "\n",
    "The Model Context Protocol (MCP) provides a standardized way to expose and consume tools across different systems. This approach is ideal for creating reusable tool collections that can be shared across multiple agents or applications."
   ]
  },
  {
   "cell_type": "code",
   "execution_count": 1,
   "metadata": {},
   "outputs": [
    {
     "ename": "NameError",
     "evalue": "name 'sse_mcp_server' is not defined",
     "output_type": "error",
     "traceback": [
      "\u001b[31m---------------------------------------------------------------------------\u001b[39m",
      "\u001b[31mNameError\u001b[39m                                 Traceback (most recent call last)",
      "\u001b[36mCell\u001b[39m\u001b[36m \u001b[39m\u001b[32mIn[1]\u001b[39m\u001b[32m, line 9\u001b[39m\n\u001b[32m      6\u001b[39m sse_mcp_client = MCPClient(\u001b[38;5;28;01mlambda\u001b[39;00m: sse_client(\u001b[33m\"\u001b[39m\u001b[33mhttp://localhost:8000/sse\u001b[39m\u001b[33m\"\u001b[39m))\n\u001b[32m      8\u001b[39m \u001b[38;5;66;03m# Create an agent with MCP tools\u001b[39;00m\n\u001b[32m----> \u001b[39m\u001b[32m9\u001b[39m \u001b[38;5;28;01mwith\u001b[39;00m \u001b[43msse_mcp_server\u001b[49m:\n\u001b[32m     10\u001b[39m     \u001b[38;5;66;03m# Get the tools from the MCP server\u001b[39;00m\n\u001b[32m     11\u001b[39m     tools = sse_mcp_client.list_tools_sync()\n\u001b[32m     13\u001b[39m     \u001b[38;5;66;03m# Create an agent with the MCP server's tools\u001b[39;00m\n",
      "\u001b[31mNameError\u001b[39m: name 'sse_mcp_server' is not defined"
     ]
    }
   ],
   "source": [
    "from mcp.client.sse import sse_client\n",
    "from strands import Agent\n",
    "from strands.tools.mcp import MCPClient\n",
    "\n",
    "# Connect to an MCP server using SSE transport\n",
    "sse_mcp_client = MCPClient(lambda: sse_client(\"http://localhost:8000/sse\"))\n",
    "\n",
    "# Create an agent with MCP tools\n",
    "with sse_mcp_server:\n",
    "    # Get the tools from the MCP server\n",
    "    tools = sse_mcp_client.list_tools_sync()\n",
    "\n",
    "    # Create an agent with the MCP server's tools\n",
    "    agent = Agent(tools=tools)\n",
    "\n",
    "    # Use the agent with MCP tools\n",
    "    agent(\"Calculate the square root of 144\")"
   ]
  },
  {
   "cell_type": "markdown",
   "metadata": {},
   "source": [
    "For more information on using MCP tools, see MCP Tools."
   ]
  },
  {
   "cell_type": "markdown",
   "metadata": {},
   "source": [
    "### 3. Example Built-in Tools\n",
    "\n",
    "For rapid prototyping and common tasks, Strands offers an optional example built-in tools package with pre-built tools for development. These tools cover a wide variety of capabilities including File Operations, Shell & Local System control, Web & Network for API calls, and Agents & Workflows for orchestration.\n",
    "\n",
    "For a complete list of available tools and their detailed descriptions, see Example Built-in Tools."
   ]
  },
  {
   "cell_type": "markdown",
   "metadata": {},
   "source": [
    "## Tool Design Best Practices"
   ]
  },
  {
   "cell_type": "markdown",
   "metadata": {},
   "source": [
    "### Effective Tool Descriptions\n",
    "\n",
    "Language models rely heavily on tool descriptions to determine when and how to use them. Well-crafted descriptions significantly improve tool usage accuracy.\n",
    "\n",
    "A good tool description should:\n",
    "\n",
    "* Clearly explain the tool's purpose and functionality\n",
    "* Specify when the tool should be used\n",
    "* Detail the parameters it accepts and their formats\n",
    "* Describe the expected output format\n",
    "* Note any limitations or constraints\n",
    "\n",
    "Example of a well-described tool:"
   ]
  },
  {
   "cell_type": "code",
   "execution_count": null,
   "metadata": {},
   "outputs": [],
   "source": [
    "@tool\n",
    "def search_database(query: str, max_results: int = 10) -> list:\n",
    "    \"\"\"\n",
    "    Search the product database for items matching the query string.\n",
    "\n",
    "    Use this tool when you need to find detailed product information based on keywords, \n",
    "    product names, or categories. The search is case-insensitive and supports fuzzy \n",
    "    matching to handle typos and variations in search terms.\n",
    "\n",
    "    This tool connects to the enterprise product catalog database and performs a semantic \n",
    "    search across all product fields, providing comprehensive results with all available \n",
    "    product metadata.\n",
    "\n",
    "    Example response:\n",
    "        [\n",
    "            {\n",
    "                \"id\": \"P12345\",\n",
    "                \"name\": \"Ultra Comfort Running Shoes\",\n",
    "                \"description\": \"Lightweight running shoes with...\",\n",
    "                \"price\": 89.99,\n",
    "                \"category\": [\"Footwear\", \"Athletic\", \"Running\"]\n",
    "            },\n",
    "            ...\n",
    "        ]\n",
    "\n",
    "    Notes:\n",
    "        - This tool only searches the product catalog and does not provide\n",
    "          inventory or availability information\n",
    "        - Results are cached for 15 minutes to improve performance\n",
    "        - The search index updates every 6 hours, so very recent products may not appear\n",
    "        - For real-time inventory status, use a separate inventory check tool\n",
    "\n",
    "    Args:\n",
    "        query: The search string (product name, category, or keywords)\n",
    "               Example: \"red running shoes\" or \"smartphone charger\"\n",
    "        max_results: Maximum number of results to return (default: 10, range: 1-100)\n",
    "                     Use lower values for faster response when exact matches are expected\n",
    "\n",
    "    Returns:\n",
    "        A list of matching product records, each containing:\n",
    "        - id: Unique product identifier (string)\n",
    "        - name: Product name (string)\n",
    "        - description: Detailed product description (string)\n",
    "        - price: Current price in USD (float)\n",
    "        - category: Product category hierarchy (list)\n",
    "    \"\"\"\n",
    "\n",
    "    # Implementation\n",
    "    pass"
   ]
  }
 ],
 "metadata": {
  "kernelspec": {
   "display_name": "venv",
   "language": "python",
   "name": "python3"
  },
  "language_info": {
   "codemirror_mode": {
    "name": "ipython",
    "version": 3
   },
   "file_extension": ".py",
   "mimetype": "text/x-python",
   "name": "python",
   "nbconvert_exporter": "python",
   "pygments_lexer": "ipython3",
   "version": "3.12.3"
  }
 },
 "nbformat": 4,
 "nbformat_minor": 4
}
