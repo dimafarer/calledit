{
 "cells": [
  {
   "cell_type": "markdown",
   "metadata": {},
   "source": [
    "# Session Management in Strands\n",
    "\n",
    "This document explains how Strands agents maintain conversation context, handle state management, and support persistent sessions across interactions.\n",
    "\n",
    "Strands agents maintain state in several forms:\n",
    "\n",
    "* Conversation History: The sequence of messages between the user and the agent\n",
    "* Tool State: Information about tool executions and results\n",
    "* Request State: Contextual information maintained within a single request\n",
    "\n",
    "Understanding how state works in Strands is essential for building agents that can maintain context across multi-turn interactions and workflows."
   ]
  },
  {
   "cell_type": "markdown",
   "metadata": {},
   "source": [
    "## Conversation History"
   ]
  },
  {
   "cell_type": "markdown",
   "metadata": {},
   "source": [
    "The primary form of state in a Strands agent is the conversation history, directly accessible through the agent.messages property:"
   ]
  },
  {
   "cell_type": "code",
   "execution_count": 2,
   "metadata": {},
   "outputs": [
    {
     "name": "stdout",
     "output_type": "stream",
     "text": [
      "Hey there! I'm doing well, thanks! Just here and ready to chat. How are you doing today? Anything specific you'd like to talk about or help with?[{'role': 'user', 'content': [{'text': 'Hows it hanging!?!'}]}, {'role': 'assistant', 'content': [{'text': \"Hey there! I'm doing well, thanks! Just here and ready to chat. How are you doing today? Anything specific you'd like to talk about or help with?\"}]}]\n"
     ]
    }
   ],
   "source": [
    "from strands import Agent\n",
    "\n",
    "# Create an agent\n",
    "agent = Agent()\n",
    "\n",
    "# Send a message and get a response\n",
    "agent(\"Hows it hanging!?!\")\n",
    "\n",
    "# Access the conversation history\n",
    "print(agent.messages)  # Shows all messages exchanged so far"
   ]
  },
  {
   "cell_type": "markdown",
   "metadata": {},
   "source": [
    "The agent.messages list contains all user and assistant messages, including tool calls and tool results. This is the primary way to inspect what's happening in your agent's conversation.\n",
    "\n",
    "You can initialize an agent with existing messages to continue a conversation or pre-fill your Agent's context with information:"
   ]
  },
  {
   "cell_type": "code",
   "execution_count": 1,
   "metadata": {},
   "outputs": [
    {
     "name": "stdout",
     "output_type": "stream",
     "text": [
      "Your name is Strands, as you mentioned in your introduction."
     ]
    },
    {
     "data": {
      "text/plain": [
       "AgentResult(stop_reason='end_turn', message={'role': 'assistant', 'content': [{'text': 'Your name is Strands, as you mentioned in your introduction.'}]}, metrics=EventLoopMetrics(cycle_count=1, tool_metrics={}, cycle_durations=[1.5199804306030273], traces=[<strands.telemetry.metrics.Trace object at 0x78c29c787980>], accumulated_usage={'inputTokens': 37, 'outputTokens': 17, 'totalTokens': 54}, accumulated_metrics={'latencyMs': 1008}), state={})"
      ]
     },
     "execution_count": 1,
     "metadata": {},
     "output_type": "execute_result"
    }
   ],
   "source": [
    "from strands import Agent\n",
    "\n",
    "# Create an agent with initial messages\n",
    "agent = Agent(messages=[\n",
    "    {\"role\": \"user\", \"content\": [{\"text\": \"Hello, my name is Strands!\"}]},\n",
    "    {\"role\": \"assistant\", \"content\": [{\"text\": \"Hi there! How can I help you today?\"}]}\n",
    "])\n",
    "\n",
    "# Continue the conversation\n",
    "agent(\"What's my name?\")\n"
   ]
  },
  {
   "cell_type": "markdown",
   "metadata": {},
   "source": [
    "Conversation history is automatically:\n",
    "\n",
    "* Maintained between calls to the agent\n",
    "* Passed to the model during each inference\n",
    "* Used for tool execution context\n",
    "* Managed to prevent context window overflow"
   ]
  },
  {
   "cell_type": "markdown",
   "metadata": {},
   "source": [
    "## Conversation Manager"
   ]
  },
  {
   "cell_type": "markdown",
   "metadata": {},
   "source": [
    "Strands uses a conversation manager to handle conversation history effectively. The default is the SlidingWindowConversationManager, which keeps recent messages and removes older ones when needed:"
   ]
  },
  {
   "cell_type": "code",
   "execution_count": 5,
   "metadata": {},
   "outputs": [],
   "source": [
    "from strands import Agent\n",
    "from strands.agent.conversation_manager import SlidingWindowConversationManager\n",
    "\n",
    "# Create a conversation manager with custom window size\n",
    "# By default, SlidingWindowConversationManager is used even if not specified\n",
    "conversation_manager = SlidingWindowConversationManager(\n",
    "    window_size=10,  # Maximum number of message pairs to keep\n",
    ")\n",
    "\n",
    "# Use the conversation manager with your agent\n",
    "agent = Agent(conversation_manager=conversation_manager)"
   ]
  },
  {
   "cell_type": "markdown",
   "metadata": {},
   "source": [
    "The sliding window conversation manager:\n",
    "\n",
    "* Keeps the most recent N message pairs\n",
    "* Removes the oldest messages when the window size is exceeded\n",
    "* Handles context window overflow exceptions by reducing context\n",
    "* Ensures conversations don't exceed model context limits"
   ]
  },
  {
   "cell_type": "markdown",
   "metadata": {},
   "source": [
    "## Tool State"
   ]
  },
  {
   "cell_type": "markdown",
   "metadata": {},
   "source": [
    "When an agent uses tools, the tool executions and results become part of the conversation state:"
   ]
  },
  {
   "cell_type": "code",
   "execution_count": 6,
   "metadata": {},
   "outputs": [
    {
     "name": "stdout",
     "output_type": "stream",
     "text": [
      "I can calculate that multiplication for you using the calculator tool.\n",
      "Tool #1: calculator\n"
     ]
    },
    {
     "data": {
      "text/html": [
       "<pre style=\"white-space:pre;overflow-x:auto;line-height:normal;font-family:Menlo,'DejaVu Sans Mono',consolas,'Courier New',monospace\"><span style=\"color: #000080; text-decoration-color: #000080\">╭────────────────────────────────────────────── </span><span style=\"color: #000080; text-decoration-color: #000080; font-weight: bold\">Calculation Result</span><span style=\"color: #000080; text-decoration-color: #000080\"> ───────────────────────────────────────────────╮</span>\n",
       "<span style=\"color: #000080; text-decoration-color: #000080\">│</span>                                                                                                                 <span style=\"color: #000080; text-decoration-color: #000080\">│</span>\n",
       "<span style=\"color: #000080; text-decoration-color: #000080\">│</span>  ╭───────────┬─────────────────────╮                                                                            <span style=\"color: #000080; text-decoration-color: #000080\">│</span>\n",
       "<span style=\"color: #000080; text-decoration-color: #000080\">│</span>  │<span style=\"color: #008080; text-decoration-color: #008080\"> Operation </span>│<span style=\"color: #008000; text-decoration-color: #008000\"> Evaluate Expression </span>│                                                                            <span style=\"color: #000080; text-decoration-color: #000080\">│</span>\n",
       "<span style=\"color: #000080; text-decoration-color: #000080\">│</span>  │<span style=\"color: #008080; text-decoration-color: #008080\"> Input     </span>│<span style=\"color: #008000; text-decoration-color: #008000\"> 123 * 456           </span>│                                                                            <span style=\"color: #000080; text-decoration-color: #000080\">│</span>\n",
       "<span style=\"color: #000080; text-decoration-color: #000080\">│</span>  │<span style=\"color: #008080; text-decoration-color: #008080\"> Result    </span>│<span style=\"color: #008000; text-decoration-color: #008000\"> 56088               </span>│                                                                            <span style=\"color: #000080; text-decoration-color: #000080\">│</span>\n",
       "<span style=\"color: #000080; text-decoration-color: #000080\">│</span>  ╰───────────┴─────────────────────╯                                                                            <span style=\"color: #000080; text-decoration-color: #000080\">│</span>\n",
       "<span style=\"color: #000080; text-decoration-color: #000080\">│</span>                                                                                                                 <span style=\"color: #000080; text-decoration-color: #000080\">│</span>\n",
       "<span style=\"color: #000080; text-decoration-color: #000080\">╰─────────────────────────────────────────────────────────────────────────────────────────────────────────────────╯</span>\n",
       "</pre>\n"
      ],
      "text/plain": [
       "\u001b[34m╭─\u001b[0m\u001b[34m─────────────────────────────────────────────\u001b[0m\u001b[34m \u001b[0m\u001b[1;34mCalculation Result\u001b[0m\u001b[34m \u001b[0m\u001b[34m──────────────────────────────────────────────\u001b[0m\u001b[34m─╮\u001b[0m\n",
       "\u001b[34m│\u001b[0m                                                                                                                 \u001b[34m│\u001b[0m\n",
       "\u001b[34m│\u001b[0m  ╭───────────┬─────────────────────╮                                                                            \u001b[34m│\u001b[0m\n",
       "\u001b[34m│\u001b[0m  │\u001b[36m \u001b[0m\u001b[36mOperation\u001b[0m\u001b[36m \u001b[0m│\u001b[32m \u001b[0m\u001b[32mEvaluate Expression\u001b[0m\u001b[32m \u001b[0m│                                                                            \u001b[34m│\u001b[0m\n",
       "\u001b[34m│\u001b[0m  │\u001b[36m \u001b[0m\u001b[36mInput    \u001b[0m\u001b[36m \u001b[0m│\u001b[32m \u001b[0m\u001b[32m123 * 456          \u001b[0m\u001b[32m \u001b[0m│                                                                            \u001b[34m│\u001b[0m\n",
       "\u001b[34m│\u001b[0m  │\u001b[36m \u001b[0m\u001b[36mResult   \u001b[0m\u001b[36m \u001b[0m│\u001b[32m \u001b[0m\u001b[32m56088              \u001b[0m\u001b[32m \u001b[0m│                                                                            \u001b[34m│\u001b[0m\n",
       "\u001b[34m│\u001b[0m  ╰───────────┴─────────────────────╯                                                                            \u001b[34m│\u001b[0m\n",
       "\u001b[34m│\u001b[0m                                                                                                                 \u001b[34m│\u001b[0m\n",
       "\u001b[34m╰─────────────────────────────────────────────────────────────────────────────────────────────────────────────────╯\u001b[0m\n"
      ]
     },
     "metadata": {},
     "output_type": "display_data"
    },
    {
     "name": "stdout",
     "output_type": "stream",
     "text": [
      "The result of multiplying 123 × 456 is 56,088.[{'role': 'user', 'content': [{'text': 'What is 123 * 456?'}]}, {'role': 'assistant', 'content': [{'text': 'I can calculate that multiplication for you using the calculator tool.'}, {'toolUse': {'toolUseId': 'tooluse_hk-BQItSQVCpKaUCb04YHg', 'name': 'calculator', 'input': {'expression': '123 * 456', 'mode': 'evaluate'}}}]}, {'role': 'user', 'content': [{'toolResult': {'status': 'success', 'content': [{'text': 'Result: 56088'}], 'toolUseId': 'tooluse_hk-BQItSQVCpKaUCb04YHg'}}]}, {'role': 'assistant', 'content': [{'text': 'The result of multiplying 123 × 456 is 56,088.'}]}]\n"
     ]
    }
   ],
   "source": [
    "from strands import Agent\n",
    "from strands_tools import calculator\n",
    "\n",
    "agent = Agent(tools=[calculator])\n",
    "\n",
    "# Tool use is recorded in the conversation history\n",
    "agent(\"What is 123 * 456?\")  # Uses calculator tool and records result\n",
    "\n",
    "# You can examine the tool interactions in the conversation history\n",
    "print(agent.messages)  # Shows tool calls and results"
   ]
  },
  {
   "cell_type": "markdown",
   "metadata": {},
   "source": [
    "Tool state includes:\n",
    "\n",
    "* Tool use requests from the model\n",
    "* Tool execution parameters\n",
    "* Tool execution results\n",
    "* Any errors or exceptions that occurred\n",
    "\n",
    "Direct tool calls can also be recorded in the conversation history:"
   ]
  },
  {
   "cell_type": "code",
   "execution_count": 7,
   "metadata": {},
   "outputs": [
    {
     "data": {
      "text/html": [
       "<pre style=\"white-space:pre;overflow-x:auto;line-height:normal;font-family:Menlo,'DejaVu Sans Mono',consolas,'Courier New',monospace\"><span style=\"color: #000080; text-decoration-color: #000080\">╭────────────────────────────────────────────── </span><span style=\"color: #000080; text-decoration-color: #000080; font-weight: bold\">Calculation Result</span><span style=\"color: #000080; text-decoration-color: #000080\"> ───────────────────────────────────────────────╮</span>\n",
       "<span style=\"color: #000080; text-decoration-color: #000080\">│</span>                                                                                                                 <span style=\"color: #000080; text-decoration-color: #000080\">│</span>\n",
       "<span style=\"color: #000080; text-decoration-color: #000080\">│</span>  ╭───────────┬─────────────────────╮                                                                            <span style=\"color: #000080; text-decoration-color: #000080\">│</span>\n",
       "<span style=\"color: #000080; text-decoration-color: #000080\">│</span>  │<span style=\"color: #008080; text-decoration-color: #008080\"> Operation </span>│<span style=\"color: #008000; text-decoration-color: #008000\"> Evaluate Expression </span>│                                                                            <span style=\"color: #000080; text-decoration-color: #000080\">│</span>\n",
       "<span style=\"color: #000080; text-decoration-color: #000080\">│</span>  │<span style=\"color: #008080; text-decoration-color: #008080\"> Input     </span>│<span style=\"color: #008000; text-decoration-color: #008000\"> 123 * 456           </span>│                                                                            <span style=\"color: #000080; text-decoration-color: #000080\">│</span>\n",
       "<span style=\"color: #000080; text-decoration-color: #000080\">│</span>  │<span style=\"color: #008080; text-decoration-color: #008080\"> Result    </span>│<span style=\"color: #008000; text-decoration-color: #008000\"> 56088               </span>│                                                                            <span style=\"color: #000080; text-decoration-color: #000080\">│</span>\n",
       "<span style=\"color: #000080; text-decoration-color: #000080\">│</span>  ╰───────────┴─────────────────────╯                                                                            <span style=\"color: #000080; text-decoration-color: #000080\">│</span>\n",
       "<span style=\"color: #000080; text-decoration-color: #000080\">│</span>                                                                                                                 <span style=\"color: #000080; text-decoration-color: #000080\">│</span>\n",
       "<span style=\"color: #000080; text-decoration-color: #000080\">╰─────────────────────────────────────────────────────────────────────────────────────────────────────────────────╯</span>\n",
       "</pre>\n"
      ],
      "text/plain": [
       "\u001b[34m╭─\u001b[0m\u001b[34m─────────────────────────────────────────────\u001b[0m\u001b[34m \u001b[0m\u001b[1;34mCalculation Result\u001b[0m\u001b[34m \u001b[0m\u001b[34m──────────────────────────────────────────────\u001b[0m\u001b[34m─╮\u001b[0m\n",
       "\u001b[34m│\u001b[0m                                                                                                                 \u001b[34m│\u001b[0m\n",
       "\u001b[34m│\u001b[0m  ╭───────────┬─────────────────────╮                                                                            \u001b[34m│\u001b[0m\n",
       "\u001b[34m│\u001b[0m  │\u001b[36m \u001b[0m\u001b[36mOperation\u001b[0m\u001b[36m \u001b[0m│\u001b[32m \u001b[0m\u001b[32mEvaluate Expression\u001b[0m\u001b[32m \u001b[0m│                                                                            \u001b[34m│\u001b[0m\n",
       "\u001b[34m│\u001b[0m  │\u001b[36m \u001b[0m\u001b[36mInput    \u001b[0m\u001b[36m \u001b[0m│\u001b[32m \u001b[0m\u001b[32m123 * 456          \u001b[0m\u001b[32m \u001b[0m│                                                                            \u001b[34m│\u001b[0m\n",
       "\u001b[34m│\u001b[0m  │\u001b[36m \u001b[0m\u001b[36mResult   \u001b[0m\u001b[36m \u001b[0m│\u001b[32m \u001b[0m\u001b[32m56088              \u001b[0m\u001b[32m \u001b[0m│                                                                            \u001b[34m│\u001b[0m\n",
       "\u001b[34m│\u001b[0m  ╰───────────┴─────────────────────╯                                                                            \u001b[34m│\u001b[0m\n",
       "\u001b[34m│\u001b[0m                                                                                                                 \u001b[34m│\u001b[0m\n",
       "\u001b[34m╰─────────────────────────────────────────────────────────────────────────────────────────────────────────────────╯\u001b[0m\n"
      ]
     },
     "metadata": {},
     "output_type": "display_data"
    },
    {
     "data": {
      "text/html": [
       "<pre style=\"white-space:pre;overflow-x:auto;line-height:normal;font-family:Menlo,'DejaVu Sans Mono',consolas,'Courier New',monospace\"><span style=\"color: #000080; text-decoration-color: #000080\">╭────────────────────────────────────────────── </span><span style=\"color: #000080; text-decoration-color: #000080; font-weight: bold\">Calculation Result</span><span style=\"color: #000080; text-decoration-color: #000080\"> ───────────────────────────────────────────────╮</span>\n",
       "<span style=\"color: #000080; text-decoration-color: #000080\">│</span>                                                                                                                 <span style=\"color: #000080; text-decoration-color: #000080\">│</span>\n",
       "<span style=\"color: #000080; text-decoration-color: #000080\">│</span>  ╭───────────┬─────────────────────╮                                                                            <span style=\"color: #000080; text-decoration-color: #000080\">│</span>\n",
       "<span style=\"color: #000080; text-decoration-color: #000080\">│</span>  │<span style=\"color: #008080; text-decoration-color: #008080\"> Operation </span>│<span style=\"color: #008000; text-decoration-color: #008000\"> Evaluate Expression </span>│                                                                            <span style=\"color: #000080; text-decoration-color: #000080\">│</span>\n",
       "<span style=\"color: #000080; text-decoration-color: #000080\">│</span>  │<span style=\"color: #008080; text-decoration-color: #008080\"> Input     </span>│<span style=\"color: #008000; text-decoration-color: #008000\"> 765 / 987           </span>│                                                                            <span style=\"color: #000080; text-decoration-color: #000080\">│</span>\n",
       "<span style=\"color: #000080; text-decoration-color: #000080\">│</span>  │<span style=\"color: #008080; text-decoration-color: #008080\"> Result    </span>│<span style=\"color: #008000; text-decoration-color: #008000\"> 0.7750759878        </span>│                                                                            <span style=\"color: #000080; text-decoration-color: #000080\">│</span>\n",
       "<span style=\"color: #000080; text-decoration-color: #000080\">│</span>  ╰───────────┴─────────────────────╯                                                                            <span style=\"color: #000080; text-decoration-color: #000080\">│</span>\n",
       "<span style=\"color: #000080; text-decoration-color: #000080\">│</span>                                                                                                                 <span style=\"color: #000080; text-decoration-color: #000080\">│</span>\n",
       "<span style=\"color: #000080; text-decoration-color: #000080\">╰─────────────────────────────────────────────────────────────────────────────────────────────────────────────────╯</span>\n",
       "</pre>\n"
      ],
      "text/plain": [
       "\u001b[34m╭─\u001b[0m\u001b[34m─────────────────────────────────────────────\u001b[0m\u001b[34m \u001b[0m\u001b[1;34mCalculation Result\u001b[0m\u001b[34m \u001b[0m\u001b[34m──────────────────────────────────────────────\u001b[0m\u001b[34m─╮\u001b[0m\n",
       "\u001b[34m│\u001b[0m                                                                                                                 \u001b[34m│\u001b[0m\n",
       "\u001b[34m│\u001b[0m  ╭───────────┬─────────────────────╮                                                                            \u001b[34m│\u001b[0m\n",
       "\u001b[34m│\u001b[0m  │\u001b[36m \u001b[0m\u001b[36mOperation\u001b[0m\u001b[36m \u001b[0m│\u001b[32m \u001b[0m\u001b[32mEvaluate Expression\u001b[0m\u001b[32m \u001b[0m│                                                                            \u001b[34m│\u001b[0m\n",
       "\u001b[34m│\u001b[0m  │\u001b[36m \u001b[0m\u001b[36mInput    \u001b[0m\u001b[36m \u001b[0m│\u001b[32m \u001b[0m\u001b[32m765 / 987          \u001b[0m\u001b[32m \u001b[0m│                                                                            \u001b[34m│\u001b[0m\n",
       "\u001b[34m│\u001b[0m  │\u001b[36m \u001b[0m\u001b[36mResult   \u001b[0m\u001b[36m \u001b[0m│\u001b[32m \u001b[0m\u001b[32m0.7750759878       \u001b[0m\u001b[32m \u001b[0m│                                                                            \u001b[34m│\u001b[0m\n",
       "\u001b[34m│\u001b[0m  ╰───────────┴─────────────────────╯                                                                            \u001b[34m│\u001b[0m\n",
       "\u001b[34m│\u001b[0m                                                                                                                 \u001b[34m│\u001b[0m\n",
       "\u001b[34m╰─────────────────────────────────────────────────────────────────────────────────────────────────────────────────╯\u001b[0m\n"
      ]
     },
     "metadata": {},
     "output_type": "display_data"
    },
    {
     "name": "stdout",
     "output_type": "stream",
     "text": [
      "[{'role': 'user', 'content': [{'text': 'agent.tool.calculator direct tool call.\\nInput parameters: {\"expression\": \"123 * 456\"}\\n'}]}, {'role': 'assistant', 'content': [{'toolUse': {'toolUseId': 'tooluse_calculator_645847605', 'name': 'calculator', 'input': {'expression': '123 * 456'}}}]}, {'role': 'user', 'content': [{'toolResult': {'status': 'success', 'content': [{'text': 'Result: 56088'}], 'toolUseId': 'tooluse_calculator_645847605'}}]}, {'role': 'assistant', 'content': [{'text': 'agent.calculator was called'}]}]\n"
     ]
    }
   ],
   "source": [
    "from strands import Agent\n",
    "from strands_tools import calculator\n",
    "\n",
    "agent = Agent(tools=[calculator])\n",
    "\n",
    "# Direct tool call with recording (default behavior)\n",
    "agent.tool.calculator(expression=\"123 * 456\")\n",
    "\n",
    "# Direct tool call without recording\n",
    "agent.tool.calculator(expression=\"765 / 987\", record_direct_tool_call=False)\n",
    "\n",
    "print(agent.messages)"
   ]
  },
  {
   "cell_type": "markdown",
   "metadata": {},
   "source": [
    "In this example we can see that the first agent.tool.calculator() call is recorded in the agent's conversation history.\n",
    "\n",
    "The second agent.tool.calculator() call is not recorded in the history because we specified the record_direct_tool_call=False argument."
   ]
  },
  {
   "cell_type": "markdown",
   "metadata": {},
   "source": [
    "## Request State"
   ]
  },
  {
   "cell_type": "markdown",
   "metadata": {},
   "source": [
    "Each agent interaction maintains a request state dictionary that persists throughout the event loop cycles and is not included in the agent's context:"
   ]
  },
  {
   "cell_type": "code",
   "execution_count": 9,
   "metadata": {},
   "outputs": [
    {
     "name": "stdout",
     "output_type": "stream",
     "text": [
      "Callback handler event count: 1\n",
      "Callback handler event count: 2\n",
      "Callback handler event count: 3\n",
      "Callback handler event count: 4\n",
      "Callback handler event count: 5\n",
      "Callback handler event count: 6\n",
      "Callback handler event count: 7\n",
      "{'counter': 7}\n"
     ]
    }
   ],
   "source": [
    "from strands import Agent\n",
    "\n",
    "def custom_callback_handler(**kwargs):\n",
    "    # Access request state\n",
    "    if \"request_state\" in kwargs:\n",
    "        state = kwargs[\"request_state\"]\n",
    "        # Use or modify state as needed\n",
    "        if \"counter\" not in state:\n",
    "            state[\"counter\"] = 0\n",
    "        state[\"counter\"] += 1\n",
    "        print(f\"Callback handler event count: {state['counter']}\")\n",
    "\n",
    "agent = Agent(callback_handler=custom_callback_handler)\n",
    "\n",
    "result = agent(\"Hi there!\")\n",
    "\n",
    "print(result.state)"
   ]
  },
  {
   "cell_type": "markdown",
   "metadata": {},
   "source": [
    "The request state:\n",
    "\n",
    "* Is initialized at the beginning of each agent call\n",
    "* Persists through recursive event loop cycles\n",
    "* Can be modified by tools and handlers\n",
    "* Is returned in the AgentResult object"
   ]
  },
  {
   "cell_type": "markdown",
   "metadata": {},
   "source": [
    "## Session Management"
   ]
  },
  {
   "cell_type": "markdown",
   "metadata": {},
   "source": [
    "For applications requiring persistent sessions across separate interactions, Strands provides several approaches:"
   ]
  },
  {
   "cell_type": "markdown",
   "metadata": {},
   "source": [
    "### 1. Object Persistence"
   ]
  },
  {
   "cell_type": "markdown",
   "metadata": {},
   "source": [
    "The simplest approach is to maintain the Agent object across requests:"
   ]
  },
  {
   "cell_type": "code",
   "execution_count": 10,
   "metadata": {},
   "outputs": [
    {
     "name": "stdout",
     "output_type": "stream",
     "text": [
      "Here's a fun fact: Octopuses have three hearts. Two of these hearts pump blood through the gills to pick up oxygen, while the third heart circulates the blood to the rest of the body. When an octopus swims, the third heart actually stops beating, which is one reason they prefer to crawl rather than swim - it's less tiring for them!Here's a related octopus fact: Not only do octopuses have three hearts, they also have blue blood! Unlike humans who have iron-based hemoglobin that makes our blood red, octopuses use a copper-based protein called hemocyanin to transport oxygen, which turns their blood blue when oxygenated. This copper-based system is actually more efficient at transporting oxygen in cold and low-oxygen environments like the deep ocean where many octopuses live."
     ]
    },
    {
     "data": {
      "text/plain": [
       "AgentResult(stop_reason='end_turn', message={'role': 'assistant', 'content': [{'text': \"Here's a related octopus fact: Not only do octopuses have three hearts, they also have blue blood! Unlike humans who have iron-based hemoglobin that makes our blood red, octopuses use a copper-based protein called hemocyanin to transport oxygen, which turns their blood blue when oxygenated. This copper-based system is actually more efficient at transporting oxygen in cold and low-oxygen environments like the deep ocean where many octopuses live.\"}]}, metrics=EventLoopMetrics(cycle_count=2, tool_metrics={}, cycle_durations=[3.4106698036193848, 2.4030375480651855], traces=[<strands.telemetry.metrics.Trace object at 0x713100c33e00>, <strands.telemetry.metrics.Trace object at 0x713110f28bf0>], accumulated_usage={'inputTokens': 115, 'outputTokens': 188, 'totalTokens': 303}, accumulated_metrics={'latencyMs': 5283}), state={})"
      ]
     },
     "execution_count": 10,
     "metadata": {},
     "output_type": "execute_result"
    }
   ],
   "source": [
    "from strands import Agent\n",
    "\n",
    "# Create agent once\n",
    "agent = Agent()\n",
    "\n",
    "# Use in multiple requests\n",
    "def handle_request(user_message):\n",
    "    return agent(user_message)\n",
    "\n",
    "handle_request(\"Tell me a fun fact\")\n",
    "handle_request(\"Tell me a related fact\")"
   ]
  },
  {
   "cell_type": "markdown",
   "metadata": {},
   "source": [
    "### 2. Serialization and Restoration"
   ]
  },
  {
   "cell_type": "markdown",
   "metadata": {},
   "source": [
    "For distributed systems or applications that can't maintain object references:"
   ]
  },
  {
   "cell_type": "code",
   "execution_count": 11,
   "metadata": {},
   "outputs": [
    {
     "name": "stdout",
     "output_type": "stream",
     "text": [
      "Initial agent:\n",
      "Arr, me hearty! Octopuses be found in all th' world's oceans, from th' shallow coastal waters to th' deep blue depths! These eight-armed scallywags prefer th' salty seas, hidin' in coral reefs, rocky lairs, and sandy bottoms.\n",
      "\n",
      "Ye can spot 'em from th' chilly northern waters down to th' tropical paradises, though they be most plentiful and diverse in th' warm waters. Some crafty smaller species even make their homes in tide pools along th' shore!\n",
      "\n",
      "These clever creatures be masters o' disguise, changin' colors faster than a pirate can bury treasure, and squeezin' their boneless bodies into the tiniest o' hidin' spots! Even th' giant Pacific octopus, which can grow bigger than a pirate's rowboat, can vanish like ghost ships in th' night!\n",
      "\n",
      "Restored agent:\n",
      "Arr, we were just jawin' about where octopuses be found in the briny deep! I told ye how these eight-armed sea beasties live in all the world's oceans, from shallow waters to the deep depths. They be most common in warm tropical waters but can be found in cold seas too. I mentioned how the crafty creatures hide in coral reefs, rocky spots, and sandy bottoms, and how some smaller ones even make their homes in tide pools. Also spoke of their sneaky ways - changin' colors and squeezin' into tight spots like the treasure-hidin' masters they be! That's what we were discussin', matey! 🐙\n",
      "\n",
      "\n",
      "[{'role': 'user', 'content': [{'text': 'Where are Octopus found? 🐙'}]}, {'role': 'assistant', 'content': [{'text': \"Arr, me hearty! Octopuses be found in all th' world's oceans, from th' shallow coastal waters to th' deep blue depths! These eight-armed scallywags prefer th' salty seas, hidin' in coral reefs, rocky lairs, and sandy bottoms.\\n\\nYe can spot 'em from th' chilly northern waters down to th' tropical paradises, though they be most plentiful and diverse in th' warm waters. Some crafty smaller species even make their homes in tide pools along th' shore!\\n\\nThese clever creatures be masters o' disguise, changin' colors faster than a pirate can bury treasure, and squeezin' their boneless bodies into the tiniest o' hidin' spots! Even th' giant Pacific octopus, which can grow bigger than a pirate's rowboat, can vanish like ghost ships in th' night!\"}]}, {'role': 'user', 'content': [{'text': 'What did we just talk about?'}]}, {'role': 'assistant', 'content': [{'text': \"Arr, we were just jawin' about where octopuses be found in the briny deep! I told ye how these eight-armed sea beasties live in all the world's oceans, from shallow waters to the deep depths. They be most common in warm tropical waters but can be found in cold seas too. I mentioned how the crafty creatures hide in coral reefs, rocky spots, and sandy bottoms, and how some smaller ones even make their homes in tide pools. Also spoke of their sneaky ways - changin' colors and squeezin' into tight spots like the treasure-hidin' masters they be! That's what we were discussin', matey! 🐙\"}]}]\n"
     ]
    }
   ],
   "source": [
    "import json\n",
    "import os\n",
    "import uuid\n",
    "from strands import Agent\n",
    "\n",
    "# Save agent state\n",
    "def save_agent_state(agent, session_id):\n",
    "    os.makedirs(\"sessions\", exist_ok=True)\n",
    "\n",
    "    state = {\n",
    "        \"messages\": agent.messages,\n",
    "        \"system_prompt\": agent.system_prompt\n",
    "    }\n",
    "    # Store state (e.g., database, file system, cache)\n",
    "    with open(f\"sessions/{session_id}.json\", \"w\") as f:\n",
    "        json.dump(state, f)\n",
    "\n",
    "# Restore agent state\n",
    "def restore_agent_state(session_id):\n",
    "    # Retrieve state\n",
    "    with open(f\"sessions/{session_id}.json\", \"r\") as f:\n",
    "        state = json.load(f)\n",
    "\n",
    "    # Create agent with restored state\n",
    "    return Agent(\n",
    "        messages=state[\"messages\"],\n",
    "        system_prompt=state[\"system_prompt\"]\n",
    "    )\n",
    "\n",
    "agent = Agent(system_prompt=\"Talk like a pirate\")\n",
    "agent_id = uuid.uuid4()\n",
    "\n",
    "print(\"Initial agent:\")\n",
    "agent(\"Where are Octopus found? 🐙\")\n",
    "save_agent_state(agent, agent_id)\n",
    "\n",
    "# Create a new Agent object with the previous agent's saved state\n",
    "restored_agent = restore_agent_state(agent_id)\n",
    "print(\"\\n\\nRestored agent:\")\n",
    "restored_agent(\"What did we just talk about?\")\n",
    "\n",
    "print(\"\\n\\n\")\n",
    "print(restored_agent.messages)  # Both messages and responses are in the restored agent's conversation history"
   ]
  },
  {
   "cell_type": "markdown",
   "metadata": {},
   "source": [
    "### 3. Integrating with Web Frameworks"
   ]
  },
  {
   "cell_type": "markdown",
   "metadata": {},
   "source": [
    "Strands agents can be integrated with web framework session management:"
   ]
  },
  {
   "cell_type": "code",
   "execution_count": null,
   "metadata": {},
   "outputs": [],
   "source": [
    "from flask import Flask, request, session\n",
    "from strands import Agent\n",
    "\n",
    "app = Flask(__name__)\n",
    "app.secret_key = \"your-secret-key\"\n",
    "\n",
    "@app.route(\"/chat\", methods=[\"POST\"])\n",
    "def chat():\n",
    "    user_message = request.json[\"message\"]\n",
    "\n",
    "    # Initialize or restore agent conversation history from session\n",
    "    if \"messages\" not in session:\n",
    "        session[\"messages\"] = []\n",
    "\n",
    "    # Create agent with session state\n",
    "    agent = Agent(messages=session[\"messages\"])\n",
    "\n",
    "    # Process message\n",
    "    result = agent(user_message)\n",
    "\n",
    "    # Update session with new messages\n",
    "    session[\"messages\"] = agent.messages\n",
    "\n",
    "    # Return the agent's final message\n",
    "    return {\"response\": result.message}"
   ]
  },
  {
   "cell_type": "markdown",
   "metadata": {},
   "source": [
    "### Custom Conversation Management"
   ]
  },
  {
   "cell_type": "markdown",
   "metadata": {},
   "source": [
    "For specialized requirements, you can implement your own conversation manager:"
   ]
  },
  {
   "cell_type": "code",
   "execution_count": 12,
   "metadata": {},
   "outputs": [],
   "source": [
    "from strands.agent.conversation_manager import ConversationManager\n",
    "from strands.types.content import Messages\n",
    "from typing import Optional\n",
    "\n",
    "class CustomConversationManager(ConversationManager):\n",
    "    def apply_management(self, messages: Messages) -> None:\n",
    "        \"\"\"Apply management strategies to the messages list.\"\"\"\n",
    "        # Implement your management strategy\n",
    "        pass\n",
    "\n",
    "    def reduce_context(self, messages: Messages, e: Optional[Exception] = None) -> None:\n",
    "        \"\"\"Reduce context to handle overflow exceptions.\"\"\"\n",
    "        # Implement your reduction strategy\n",
    "        pass"
   ]
  }
 ],
 "metadata": {
  "kernelspec": {
   "display_name": "venv",
   "language": "python",
   "name": "python3"
  },
  "language_info": {
   "codemirror_mode": {
    "name": "ipython",
    "version": 3
   },
   "file_extension": ".py",
   "mimetype": "text/x-python",
   "name": "python",
   "nbconvert_exporter": "python",
   "pygments_lexer": "ipython3",
   "version": "3.12.3"
  }
 },
 "nbformat": 4,
 "nbformat_minor": 4
}
