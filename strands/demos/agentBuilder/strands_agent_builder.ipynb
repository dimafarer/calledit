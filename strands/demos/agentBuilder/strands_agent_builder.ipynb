{
 "cells": [
  {
   "cell_type": "markdown",
   "metadata": {},
   "source": [
    "# Strands Agent Builder\n",
    "\n",
    "A model-driven approach to building AI agents in just a few lines of code.\n",
    "\n",
    "An interactive Strands agent toolkit designed to help you build, test, and extend your own custom AI agents and tools. With the Strands Agent Builder, you can create specialized agents, develop custom tools, and compose complex AI workflows—all from your terminal."
   ]
  },
  {
   "cell_type": "markdown",
   "metadata": {},
   "source": [
    "## Quick Start"
   ]
  },
  {
   "cell_type": "code",
   "execution_count": null,
   "metadata": {},
   "outputs": [],
   "source": [
    "# Install\n",
    "!pipx install strands-agents-builder"
   ]
  },
  {
   "cell_type": "markdown",
   "metadata": {},
   "source": [
    "### Basic Usage Examples"
   ]
  },
  {
   "cell_type": "code",
   "execution_count": null,
   "metadata": {},
   "outputs": [],
   "source": [
    "# Run interactive mode for agent development\n",
    "!strands"
   ]
  },
  {
   "cell_type": "code",
   "execution_count": null,
   "metadata": {},
   "outputs": [],
   "source": [
    "# Build a custom tool and use it immediately\n",
    "!strands \"Create a tool named sentiment_analyzer that analyzes text sentiment and test it with some examples\""
   ]
  },
  {
   "cell_type": "code",
   "execution_count": null,
   "metadata": {},
   "outputs": [],
   "source": [
    "# Pipe content to build an agent based on specifications\n",
    "!cat agent-spec.txt | strands \"Build a specialized agent based on these specifications\""
   ]
  },
  {
   "cell_type": "code",
   "execution_count": null,
   "metadata": {},
   "outputs": [],
   "source": [
    "# Use with knowledge base to extend existing tools\n",
    "!strands --kb YOUR_KB_ID \"Load my previous calculator tool and enhance it with scientific functions\""
   ]
  },
  {
   "cell_type": "markdown",
   "metadata": {},
   "source": [
    "## Features\n",
    "\n",
    "- 🏗️ Create and test custom tools with instant hot-reloading\n",
    "- 🤖 Build specialized agents with focused capabilities\n",
    "- 🔄 Extend existing tools and enhance their functionality\n",
    "- 💬 Interactive command-line interface with rich output\n",
    "- 🛠️ Powerful integrated tools (12+ tools including shell, editor, HTTP, Python)\n",
    "- 🧠 Knowledge base integration for persisting and loading tools\n",
    "- 🎮 Customizable system prompt for specialized agents\n",
    "- 🪄 Nested agent capabilities with tool delegation\n",
    "- 🔧 Dynamic tool loading for extending functionality\n",
    "- 🖥️ Environment variable management and customization"
   ]
  },
  {
   "cell_type": "markdown",
   "metadata": {},
   "source": [
    "## Integrated Tools\n",
    "\n",
    "Strands comes with a comprehensive set of built-in tools:\n",
    "\n",
    "- **agent_graph**: Create and manage graphs of agents\n",
    "- **calculator**: Perform mathematical operations\n",
    "- **cron**: Task scheduling with cron jobs\n",
    "- **current_time**: Get the current date and time\n",
    "- **editor**: File editing operations like line edits, search, and undo\n",
    "- **environment**: Manage environment variables\n",
    "- **generate_image**: Create AI generated images with Amazon Bedrock\n",
    "- **http_request**: Make API calls, fetch web data, and call local HTTP servers\n",
    "- **image_reader**: Process and analyze images\n",
    "- **journal**: Create structured tasks and logs for agents to manage and work from\n",
    "- **load_tool**: Dynamically load more tools at runtime\n",
    "- **memory**: Agent memory persistence in Amazon Bedrock Knowledge Bases\n",
    "- **nova_reels**: Create AI generated videos with Nova Reels on Amazon Bedrock\n",
    "- **python_repl**: Run Python code\n",
    "- **retrieve**: Semantically retrieve data from Amazon Bedrock Knowledge Bases for RAG, memory, and other purposes\n",
    "- **shell**: Execute shell commands\n",
    "- **slack**: Slack integration with real-time events, API access, and message sending\n",
    "- **speak**: Generate speech from text using macOS say command or Amazon Polly\n",
    "- **stop**: Force stop the agent event loop\n",
    "- **store_in_kb**: Save content to knowledge bases for future reference\n",
    "- **strand**: Create nested agent instances with specialized capabilities\n",
    "- **swarm**: Coordinate multiple AI agents in a swarm / network of agents\n",
    "- **think**: Perform deep thinking by creating parallel branches of agentic reasoning\n",
    "- **use_aws**: Interact with AWS services\n",
    "- **use_llm**: Run a new AI event loop with custom prompts\n",
    "- **welcome**: Manage the Strands Agent Builder welcome text\n",
    "- **workflow**: Orchestrate sequenced workflows"
   ]
  },
  {
   "cell_type": "markdown",
   "metadata": {},
   "source": [
    "## Knowledge Base Integration\n",
    "\n",
    "Strands Agent Builder leverages Amazon Bedrock Knowledge Bases to store and retrieve custom tools, agent configurations, and development history."
   ]
  },
  {
   "cell_type": "code",
   "execution_count": null,
   "metadata": {},
   "outputs": [],
   "source": [
    "# Load and extend tools from your knowledge base\n",
    "!strands --kb YOUR_KB_ID \"Load my data_visualizer tool and add 3D plotting capabilities\""
   ]
  },
  {
   "cell_type": "code",
   "execution_count": null,
   "metadata": {},
   "outputs": [],
   "source": [
    "# Or set a default knowledge base via environment variable\n",
    "import os\n",
    "os.environ[\"STRANDS_KNOWLEDGE_BASE_ID\"] = \"YOUR_KB_ID\"\n",
    "!strands \"Find my most recent agent configuration and make it more efficient\""
   ]
  },
  {
   "cell_type": "markdown",
   "metadata": {},
   "source": [
    "Features:\n",
    "\n",
    "- 🔄 Retrieve previously created tools and agent configurations\n",
    "- 💾 Persistent storage for your custom tools and agents\n",
    "- 🛠️ Ability to iteratively improve tools across sessions\n",
    "- 🔍 Find and extend tools built in previous sessions"
   ]
  },
  {
   "cell_type": "markdown",
   "metadata": {},
   "source": [
    "## Model Configuration\n",
    "\n",
    "### Optimized Defaults\n",
    "\n",
    "Strands comes with optimized, maxed-out configuration settings for the Bedrock model provider:"
   ]
  },
  {
   "cell_type": "code",
   "execution_count": null,
   "metadata": {},
   "outputs": [],
   "source": [
    "config = {\n",
    "    \"model_id\": \"us.anthropic.claude-sonnet-4-20250514-v1:0\",\n",
    "    \"max_tokens\": 32767,\n",
    "    \"boto_client_config\": {\n",
    "        \"read_timeout\": 900,\n",
    "        \"connect_timeout\": 900,\n",
    "        \"retries\": {\n",
    "            \"max_attempts\": 3,\n",
    "            \"mode\": \"adaptive\"\n",
    "        }\n",
    "    },\n",
    "    \"additional_request_fields\": {\n",
    "        \"anthropic_beta\": [\"interleaved-thinking-2025-05-14\"],\n",
    "        \"thinking\": {\n",
    "            \"type\": \"enabled\",\n",
    "            \"budget_tokens\": 2048\n",
    "        }\n",
    "    }\n",
    "}\n",
    "\n",
    "print(\"Default Strands configuration settings\")"
   ]
  },
  {
   "cell_type": "markdown",
   "metadata": {},
   "source": [
    "These settings provide:\n",
    "\n",
    "- Claude Sonnet 4 (latest high-performance model)\n",
    "- Maximum token output (32,768 tokens)\n",
    "- Extended timeouts (15 minutes) for complex operations\n",
    "- Automatic retries with adaptive backoff\n",
    "- Interleaved thinking capability for real-time reasoning during responses\n",
    "- Enabled thinking capability with 2,048 token budget for recursive reasoning\n",
    "\n",
    "You can customize these values using environment variables:"
   ]
  },
  {
   "cell_type": "code",
   "execution_count": null,
   "metadata": {},
   "outputs": [],
   "source": [
    "# Maximum tokens for responses\n",
    "import os\n",
    "os.environ[\"STRANDS_MAX_TOKENS\"] = \"32000\"\n",
    "\n",
    "# Budget for agent thinking/reasoning\n",
    "os.environ[\"STRANDS_BUDGET_TOKENS\"] = \"1024\""
   ]
  },
  {
   "cell_type": "markdown",
   "metadata": {},
   "source": [
    "### Custom Model Provider\n",
    "\n",
    "You can configure strands to use a different model provider with specific settings by passing in the following arguments:"
   ]
  },
  {
   "cell_type": "code",
   "execution_count": null,
   "metadata": {},
   "outputs": [],
   "source": [
    "!strands --model-provider <NAME> --model-config '{\"model_id\": \"model-name\"}'"
   ]
  },
  {
   "cell_type": "markdown",
   "metadata": {},
   "source": [
    "As an example, if you wanted to use the packaged Ollama provider with a specific model id, you would run:"
   ]
  },
  {
   "cell_type": "code",
   "execution_count": null,
   "metadata": {},
   "outputs": [],
   "source": [
    "!strands --model-provider ollama --model-config '{\"model_id\": \"llama2\"}'"
   ]
  },
  {
   "cell_type": "markdown",
   "metadata": {},
   "source": [
    "Strands Agent Builder is packaged with bedrock and ollama.\n",
    "\n",
    "If you have implemented a custom model provider and would like to use it with strands, create a python module under the directory \"$CWD/.models\" and expose an instance function that returns an instance of your provider. As an example, assume you have:"
   ]
  },
  {
   "cell_type": "code",
   "execution_count": null,
   "metadata": {},
   "outputs": [],
   "source": [
    "%%writefile ./.models/custom_model.py\n",
    "from mymodels import CustomModel\n",
    "\n",
    "def instance(**config):\n",
    "    return CustomModel(**config)"
   ]
  },
  {
   "cell_type": "markdown",
   "metadata": {},
   "source": [
    "You can then use it with strands by running:"
   ]
  },
  {
   "cell_type": "code",
   "execution_count": null,
   "metadata": {},
   "outputs": [],
   "source": [
    "!strands --model-provider custom_model --model-config '{\"custom_param\": \"value\"}'"
   ]
  },
  {
   "cell_type": "markdown",
   "metadata": {},
   "source": [
    "### Custom System Prompts"
   ]
  },
  {
   "cell_type": "code",
   "execution_count": null,
   "metadata": {},
   "outputs": [],
   "source": [
    "# Via environment variable\n",
    "import os\n",
    "os.environ[\"STRANDS_SYSTEM_PROMPT\"] = \"You are a Python expert.\"\n",
    "\n",
    "# Or local file\n",
    "!echo \"You are a security expert.\" > .prompt"
   ]
  },
  {
   "cell_type": "markdown",
   "metadata": {},
   "source": [
    "## Exit\n",
    "\n",
    "Type exit, quit, or press Ctrl+C/Ctrl+D to exit the Strands Agent Builder."
   ]
  }
 ],
 "metadata": {
  "kernelspec": {
   "display_name": "Python 3",
   "language": "python",
   "name": "python3"
  },
  "language_info": {
   "codemirror_mode": {
    "name": "ipython",
    "version": 3
   },
   "file_extension": ".py",
   "mimetype": "text/x-python",
   "name": "python",
   "nbconvert_exporter": "python",
   "pygments_lexer": "ipython3",
   "version": "3.12.3"
  }
 },
 "nbformat": 4,
 "nbformat_minor": 4
}